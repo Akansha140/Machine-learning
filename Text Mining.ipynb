{
 "cells": [
  {
   "cell_type": "markdown",
   "metadata": {},
   "source": [
    "### Objective: To scrape consumer reviews from a set of web pages and to evaluate the performance of text classification algorithms on the data. \n",
    "The reviews have been divided into seven categories here: http://mlg.ucd.ie/modules/yalp"
   ]
  },
  {
   "cell_type": "code",
   "execution_count": null,
   "metadata": {},
   "outputs": [],
   "source": [
    "# Importing the required libraries\n",
    "import pandas as pd\n",
    "import numpy as np\n",
    "import bs4\n",
    "from sklearn.model_selection import train_test_split\n",
    "from sklearn.feature_extraction.text import CountVectorizer\n",
    "from sklearn.naive_bayes import MultinomialNB\n",
    "from sklearn.feature_extraction.text import TfidfVectorizer\n",
    "from sklearn.feature_extraction.text import TfidfTransformer\n",
    "import urllib.request\n",
    "from sklearn.linear_model import LogisticRegression\n",
    "from sklearn.ensemble import RandomForestClassifier\n",
    "from sklearn.svm import LinearSVC\n",
    "from sklearn.tree import DecisionTreeClassifier\n",
    "from sklearn.model_selection import cross_val_score\n",
    "from sklearn.neighbors import KNeighborsClassifier\n",
    "from sklearn.metrics import confusion_matrix\n",
    "from sklearn import metrics\n",
    "import seaborn as sns\n",
    "import matplotlib.pyplot as plt\n",
    "from sklearn.metrics import accuracy_score\n",
    "from sklearn.model_selection import cross_val_score\n",
    "\n",
    "import re \n",
    "import sys\n",
    "import nltk\n",
    "from nltk.corpus import stopwords\n",
    "from nltk.stem.snowball import SnowballStemmer\n",
    "import warnings"
   ]
  },
  {
   "cell_type": "code",
   "execution_count": 2,
   "metadata": {},
   "outputs": [],
   "source": [
    "link = 'http://mlg.ucd.ie/modules/yalp/'"
   ]
  },
  {
   "cell_type": "markdown",
   "metadata": {},
   "source": [
    "#### Above link provide reviews which have been divided into seven categories.\n",
    "- Each review has a star rating. We will assume that 1-star to 3- star reviews are “negative”, and 4-star to 5-star reviews are “positive”."
   ]
  },
  {
   "cell_type": "code",
   "execution_count": 3,
   "metadata": {},
   "outputs": [
    {
     "name": "stdout",
     "output_type": "stream",
     "text": [
      "<!DOCTYPE html>\n",
      "<html lang=\"en\">\n",
      "<head>\n",
      "    <meta name=\"robots\" content=\"noindex\">  \n",
      "    <meta name=\"description\" content=\"Content on this site is posted for teaching purposes only. Original data is from yelp.com\">\n",
      "    <meta charset=\"utf-8\">\n",
      "    <meta http-equiv=\"X-UA-Compatible\" content=\"IE=edge\">\n",
      "    <meta name=\"viewport\" content=\"width=device-width, initial-scale=1\">\n",
      "    <title>Yalp Home</title>\n",
      "    <link rel=\"shortcut icon\" href=\"images/favicon.ico\">\n",
      "    <!-- Bootstrap core CSS -->\n",
      "    <link href=\"assets/css/bootstrap.css\" rel=\"stylesheet\">\n",
      "    <!-- Custom styles for this template -->\n",
      "    <link href=\"assets/css/style.css\" rel=\"stylesheet\">\n",
      "    <link href=\"assets/css/font-awesome.min.css\" rel=\"stylesheet\">\n",
      "    <script src=\"assets/js/modernizr.js\"></script>\n",
      "</head>\n",
      "<body>\n",
      "    <div class=\"container mtb\">\n",
      "        <div class=\"row\">\n",
      "        <div class=\"col-md-12\">\n",
      "          <h3 class=\"info\"><a href=\"index.html\" class=\"info\">Yalp</a> &mdash; Home</h3>\n",
      "        </div>\n",
      "        </div>\n",
      "        <div class=\"row\">\n",
      "            <div id=\"content\" class=\"col-md-10\">\n",
      "                <div id=\"all\">\n",
      "\n",
      "   \n",
      "    \n",
      "\n",
      "<p>Select a business category from the list below to browse customer reviews:</p>\n",
      "\t\t\t<div class='category'><h4><a href='automotive_list.html'>Category: Automotive</a>&nbsp;&nbsp;(132 businesses)</h4></div>\n",
      "\t\t\t<div class='category'><h4><a href='cafes_list.html'>Category: Cafes</a>&nbsp;&nbsp;(96 businesses)</h4></div>\n",
      "\t\t\t<div class='category'><h4><a href='fashion_list.html'>Category: Fashion</a>&nbsp;&nbsp;(159 businesses)</h4></div>\n",
      "\t\t\t<div class='category'><h4><a href='gym_list.html'>Category: Gym</a>&nbsp;&nbsp;(122 businesses)</h4></div>\n",
      "\t\t\t<div class='category'><h4><a href='hair_salons_list.html'>Category: Hair and Salons</a>&nbsp;&nbsp;(143 businesses)</h4></div>\n",
      "\t\t\t<div class='category'><h4><a href='hotels_list.html'>Category: Hotels</a>&nbsp;&nbsp;(113 businesses)</h4></div>\n",
      "\t\t\t<div class='category'><h4><a href='restaurants_list.html'>Category: Restaurants</a>&nbsp;&nbsp;(100 businesses)</h4></div>\n",
      "             </div>\n",
      "            </div>\n",
      "        </div>\n",
      "    \n",
      "        <div class=\"footer\">\n",
      "        Content on this site is posted for teaching purposes only. \n",
      "        </div>\n",
      "    </div>\n",
      "\n",
      "    <!-- Bootstrap core JavaScript\n",
      "    ================================================== -->\n",
      "    <!-- Placed at the end of the document so the pages load faster -->\n",
      "    <script src=\"https://ajax.googleapis.com/ajax/libs/jquery/1.11.0/jquery.min.js\"></script>\n",
      "    <script src=\"assets/js/bootstrap.min.js\"></script>\n",
      "    <script src=\"assets/js/retina-1.1.0.js\"></script>\n",
      "    <script src=\"assets/js/jquery.hoverdir.js\"></script>\n",
      "    <script src=\"assets/js/jquery.hoverex.min.js\"></script>\n",
      "    <script src=\"assets/js/jquery.isotope.min.js\"></script>\n",
      "    <script src=\"assets/js/custom.js\"></script>\n",
      "  </body>\n",
      "</html>\n"
     ]
    }
   ],
   "source": [
    "#Fetching the HTML code from the web page \n",
    "response=urllib.request.urlopen(link)\n",
    "html = response.read().decode()\n",
    "lines = html.strip().split(\"\\n\")\n",
    "for line in lines:\n",
    "    print(line)"
   ]
  },
  {
   "cell_type": "markdown",
   "metadata": {},
   "source": [
    "### Task 1: Select three review categories"
   ]
  },
  {
   "cell_type": "code",
   "execution_count": 4,
   "metadata": {},
   "outputs": [
    {
     "name": "stdout",
     "output_type": "stream",
     "text": [
      "['index.html', 'automotive_list.html', 'cafes_list.html', 'fashion_list.html', 'gym_list.html', 'hair_salons_list.html', 'hotels_list.html', 'restaurants_list.html']\n"
     ]
    }
   ],
   "source": [
    "links = []\n",
    "parser = bs4.BeautifulSoup(html)\n",
    "for linkk in parser.findAll('a'):\n",
    "    links.append(linkk.get('href'))\n",
    "print(links)"
   ]
  },
  {
   "cell_type": "markdown",
   "metadata": {},
   "source": [
    "\n",
    "Here I am selecting categories (Gym, Hair saloon, Hotels)"
   ]
  },
  {
   "cell_type": "code",
   "execution_count": 5,
   "metadata": {},
   "outputs": [],
   "source": [
    "links = [link+links[4],link+links[5],link+links[6]] # Storing the links of the three categories"
   ]
  },
  {
   "cell_type": "code",
   "execution_count": 6,
   "metadata": {},
   "outputs": [
    {
     "data": {
      "text/plain": [
       "['http://mlg.ucd.ie/modules/yalp/gym_list.html',\n",
       " 'http://mlg.ucd.ie/modules/yalp/hair_salons_list.html',\n",
       " 'http://mlg.ucd.ie/modules/yalp/hotels_list.html']"
      ]
     },
     "execution_count": 6,
     "metadata": {},
     "output_type": "execute_result"
    }
   ],
   "source": [
    "links"
   ]
  },
  {
   "cell_type": "code",
   "execution_count": 7,
   "metadata": {},
   "outputs": [],
   "source": [
    "sublinks=[]\n",
    "for i in links:\n",
    "    a=[]\n",
    "    response = urllib.request.urlopen(i)\n",
    "    html = response.read().decode()\n",
    "    parser = bs4.BeautifulSoup(html)\n",
    "    for linkk in parser.findAll('a'):\n",
    "        a.append(linkk.get('href')) # Appending the list with the link of the reviews for individual businesses inside each category\n",
    "    sublinks.append(a)"
   ]
  },
  {
   "cell_type": "code",
   "execution_count": 8,
   "metadata": {},
   "outputs": [
    {
     "data": {
      "text/plain": [
       "[['http://mlg.ucd.ie/modules/yalp/index.html',\n",
       "  'http://mlg.ucd.ie/modules/yalp/review_set_ei_4xj1zfVEczaJV7ZdsNA.html',\n",
       "  'http://mlg.ucd.ie/modules/yalp/review_set_TbsSnPjQsmwmszV95uLJ4w.html',\n",
       "  'http://mlg.ucd.ie/modules/yalp/review_set_25Qa4NoliJ75F_6u3nqZhw.html',\n",
       "  'http://mlg.ucd.ie/modules/yalp/review_set_ip-0MsQaogm18KQhhnTqTQ.html',\n",
       "  'http://mlg.ucd.ie/modules/yalp/review_set_63lkQ2JyOIYWg2b-vMkrrw.html',\n",
       "  'http://mlg.ucd.ie/modules/yalp/review_set_RSTitmG9qW4LYXQBfNNqpQ.html',\n",
       "  'http://mlg.ucd.ie/modules/yalp/review_set_hM4mJ29nMMuauqAUStcy8g.html',\n",
       "  'http://mlg.ucd.ie/modules/yalp/review_set_WJZY8-AVQMhbp84se7H8Bw.html',\n",
       "  'http://mlg.ucd.ie/modules/yalp/review_set_9xcEdoY2D2O0P18vGsCDMw.html',\n",
       "  'http://mlg.ucd.ie/modules/yalp/review_set_31cCwS3xzuz89qS__Pw7bg.html',\n",
       "  'http://mlg.ucd.ie/modules/yalp/review_set_uIrEaKOgWk0OOlolxwU1PA.html',\n",
       "  'http://mlg.ucd.ie/modules/yalp/review_set_60VqleCpYQWhhUAq3wOh2A.html',\n",
       "  'http://mlg.ucd.ie/modules/yalp/review_set_vbFlzg9VPC8ebE67N_ZGAw.html',\n",
       "  'http://mlg.ucd.ie/modules/yalp/review_set_b3Kn9ucwRGbFqJcQV0ipRA.html',\n",
       "  'http://mlg.ucd.ie/modules/yalp/review_set_Jx0P0n25MT-jZFG_P0cVqQ.html',\n",
       "  'http://mlg.ucd.ie/modules/yalp/review_set_JPrnP6WFNaS-aN4mt0tlwQ.html',\n",
       "  'http://mlg.ucd.ie/modules/yalp/review_set_z0J5ulstB5vqVPxMoaA2YA.html',\n",
       "  'http://mlg.ucd.ie/modules/yalp/review_set_pNNRuhaLOReqqyUeAztp1g.html',\n",
       "  'http://mlg.ucd.ie/modules/yalp/review_set_Nu2CMMUeGH6sSzlmwnFY1Q.html',\n",
       "  'http://mlg.ucd.ie/modules/yalp/review_set_MAomqpzFEJWSB2bOFA-IlA.html',\n",
       "  'http://mlg.ucd.ie/modules/yalp/review_set_WU0rArtd0GcTt8ndKzeKaw.html',\n",
       "  'http://mlg.ucd.ie/modules/yalp/review_set_eTAK7JUhLG105DWMW4qeYw.html',\n",
       "  'http://mlg.ucd.ie/modules/yalp/review_set_0BjG7BImkDwdvQqKhQLuzw.html',\n",
       "  'http://mlg.ucd.ie/modules/yalp/review_set_kb6WPs0koeiyPy-4S7iRIA.html',\n",
       "  'http://mlg.ucd.ie/modules/yalp/review_set_JoPLZ8vIwuk-GohDRE3Rxw.html',\n",
       "  'http://mlg.ucd.ie/modules/yalp/review_set_I4Oi_pyZBSZtAVjZHoTFWg.html',\n",
       "  'http://mlg.ucd.ie/modules/yalp/review_set_G91EuQd7s2smunA6B_UWRw.html',\n",
       "  'http://mlg.ucd.ie/modules/yalp/review_set_dgbojHKoThh0DVZeEtq5qw.html',\n",
       "  'http://mlg.ucd.ie/modules/yalp/review_set_nW0vxbtTOIUa41nJRpORww.html',\n",
       "  'http://mlg.ucd.ie/modules/yalp/review_set_CtsAPh-v_cZZzU0URzogyQ.html',\n",
       "  'http://mlg.ucd.ie/modules/yalp/review_set_U19IqPyCr7gM-Er2ET734Q.html',\n",
       "  'http://mlg.ucd.ie/modules/yalp/review_set_7l2u_eISbJZ2gOyjUCkAMQ.html',\n",
       "  'http://mlg.ucd.ie/modules/yalp/review_set_u6nZOYK-LhOKFIuoizQEvg.html',\n",
       "  'http://mlg.ucd.ie/modules/yalp/review_set_9NeaMCrJapb5mSXAx3AiaA.html',\n",
       "  'http://mlg.ucd.ie/modules/yalp/review_set_3z01T4QdVAMWvFNDrg7Mnw.html',\n",
       "  'http://mlg.ucd.ie/modules/yalp/review_set_uDY-aHcgVFv4Xxov9QHaaw.html',\n",
       "  'http://mlg.ucd.ie/modules/yalp/review_set_mamLM556dasQuFWszYd4qQ.html',\n",
       "  'http://mlg.ucd.ie/modules/yalp/review_set_zGDYsZLATXebAKVLVCEKlg.html',\n",
       "  'http://mlg.ucd.ie/modules/yalp/review_set_LHrksD6vqQW5PY4lRwJSDQ.html',\n",
       "  'http://mlg.ucd.ie/modules/yalp/review_set_a5Fx2JdwwIiR72Wmmep2rA.html',\n",
       "  'http://mlg.ucd.ie/modules/yalp/review_set_NsLiXuHzy6DMGu2N8WtX1w.html',\n",
       "  'http://mlg.ucd.ie/modules/yalp/review_set_yCJvVJirvdKg1JucqKepDQ.html',\n",
       "  'http://mlg.ucd.ie/modules/yalp/review_set_nVmVhzPm0CDWemrrPKy4sQ.html',\n",
       "  'http://mlg.ucd.ie/modules/yalp/review_set_7aQMQlWraYpMzwhqVwfhnQ.html',\n",
       "  'http://mlg.ucd.ie/modules/yalp/review_set_8zBhtpDGERGiHU48BWQVDQ.html',\n",
       "  'http://mlg.ucd.ie/modules/yalp/review_set_xa1x9RxP8ESdvmj6mMYwww.html',\n",
       "  'http://mlg.ucd.ie/modules/yalp/review_set_YYapxL_zuPZ2C8t0vgcHqw.html',\n",
       "  'http://mlg.ucd.ie/modules/yalp/review_set_IzC1oXHT_TxYej_6YTfBnA.html',\n",
       "  'http://mlg.ucd.ie/modules/yalp/review_set_LQlrK5vf2Sh09RJVwiBY3g.html',\n",
       "  'http://mlg.ucd.ie/modules/yalp/review_set_AKuHtg-xNTtMLEL35tbWVA.html',\n",
       "  'http://mlg.ucd.ie/modules/yalp/review_set_V5-Ym9xgjUl-KJo6IzAPHw.html',\n",
       "  'http://mlg.ucd.ie/modules/yalp/review_set_0BwEQU3Ly2Xxt2bF88t6gA.html',\n",
       "  'http://mlg.ucd.ie/modules/yalp/review_set_Aabr0G7IrxI03NhbsH5FDA.html',\n",
       "  'http://mlg.ucd.ie/modules/yalp/review_set_LtNhEt9TYEFx5HIhwOxfEA.html',\n",
       "  'http://mlg.ucd.ie/modules/yalp/review_set_Kimzj_8yzOEw0_2opLBQuw.html',\n",
       "  'http://mlg.ucd.ie/modules/yalp/review_set_Hg4Ih249vvT4y7Mbr4EiSA.html',\n",
       "  'http://mlg.ucd.ie/modules/yalp/review_set_ANmMChurdD2V1KpkMf60Rw.html',\n",
       "  'http://mlg.ucd.ie/modules/yalp/review_set_fD7arrNn6fGs2tvkxBhKag.html',\n",
       "  'http://mlg.ucd.ie/modules/yalp/review_set_e1wn0goO68z5zbv4vc-7hA.html',\n",
       "  'http://mlg.ucd.ie/modules/yalp/review_set_fhBGGPyZjNc-7a1iExO9wQ.html',\n",
       "  'http://mlg.ucd.ie/modules/yalp/review_set_IwjuiOc_Nr2gdc2xZwmhWA.html',\n",
       "  'http://mlg.ucd.ie/modules/yalp/review_set_2CYnoD8-rOuFz_izIXtYpw.html',\n",
       "  'http://mlg.ucd.ie/modules/yalp/review_set_-j-59yXHCTNipMNPUqosug.html',\n",
       "  'http://mlg.ucd.ie/modules/yalp/review_set_zymuRbVoLoJSSNdBDaFBXg.html',\n",
       "  'http://mlg.ucd.ie/modules/yalp/review_set_Cb3a81XKEgbj0Y3ZZm1Vzw.html',\n",
       "  'http://mlg.ucd.ie/modules/yalp/review_set_TcNIOS7lRqlpUhrzRNJPUg.html',\n",
       "  'http://mlg.ucd.ie/modules/yalp/review_set_msbf_UJEqvatXttgFjgU8w.html',\n",
       "  'http://mlg.ucd.ie/modules/yalp/review_set_huk3l1YLv75Ew9rci3FNcQ.html',\n",
       "  'http://mlg.ucd.ie/modules/yalp/review_set__iU2irx9ab4VzND_fgZuuw.html',\n",
       "  'http://mlg.ucd.ie/modules/yalp/review_set_YAh81IcABZNGtfAGAEfTnw.html',\n",
       "  'http://mlg.ucd.ie/modules/yalp/review_set_4rQlSA8EeMFN8MQTLqKOfQ.html',\n",
       "  'http://mlg.ucd.ie/modules/yalp/review_set_Qxregt9E0AvTxwc1JyEbFg.html',\n",
       "  'http://mlg.ucd.ie/modules/yalp/review_set_r2_IuFq01U4V0MjTpRMXIA.html',\n",
       "  'http://mlg.ucd.ie/modules/yalp/review_set_mmZ-bThGOzL7vADrNzaU3Q.html',\n",
       "  'http://mlg.ucd.ie/modules/yalp/review_set_DizQXCCLXK6OSx0ZYyXHig.html',\n",
       "  'http://mlg.ucd.ie/modules/yalp/review_set_hgWMxKhrnOUd3m5nOUBIkA.html',\n",
       "  'http://mlg.ucd.ie/modules/yalp/review_set_E0NylQlFzTqWZFsbqr9qGQ.html',\n",
       "  'http://mlg.ucd.ie/modules/yalp/review_set_bjwzcwoddutV2aAEImhFxA.html',\n",
       "  'http://mlg.ucd.ie/modules/yalp/review_set_No-8JQeMoo2VwA6gEXlrlw.html',\n",
       "  'http://mlg.ucd.ie/modules/yalp/review_set_8-5u3EaPibtc_96Wyvg5Bg.html',\n",
       "  'http://mlg.ucd.ie/modules/yalp/review_set_sf8AEjEZ4-U-W9QeDere9w.html',\n",
       "  'http://mlg.ucd.ie/modules/yalp/review_set_SzK2HBcDTbIBKcoV_iivpw.html',\n",
       "  'http://mlg.ucd.ie/modules/yalp/review_set_dkEAlWEOAx0ezEvFPwtLcg.html',\n",
       "  'http://mlg.ucd.ie/modules/yalp/review_set_YLuZokYCj4KJ8WdU5iEraQ.html',\n",
       "  'http://mlg.ucd.ie/modules/yalp/review_set_mmeKyvhdKHsW-gh0JvLbGA.html',\n",
       "  'http://mlg.ucd.ie/modules/yalp/review_set_Xx_bvAVlMw8ggBN8gNuugg.html',\n",
       "  'http://mlg.ucd.ie/modules/yalp/review_set_6lZ-WYajiFtzlzcJbmsZXQ.html',\n",
       "  'http://mlg.ucd.ie/modules/yalp/review_set_TMhD-CnJSuFGvLVuY3boaw.html',\n",
       "  'http://mlg.ucd.ie/modules/yalp/review_set_KLNY8ewfiaCuuDtqETW5SQ.html',\n",
       "  'http://mlg.ucd.ie/modules/yalp/review_set_w0Tg08rY5jl6rycI0qT1NA.html',\n",
       "  'http://mlg.ucd.ie/modules/yalp/review_set_EYsWr69-lRfZQ2p4mMjNCg.html',\n",
       "  'http://mlg.ucd.ie/modules/yalp/review_set_7zkvJg3nKMJU3FyJN3LDVA.html',\n",
       "  'http://mlg.ucd.ie/modules/yalp/review_set_tmxgCiEwue2t3T95OasOdw.html',\n",
       "  'http://mlg.ucd.ie/modules/yalp/review_set_uZBc32b7MlB1D9f8XFHzYw.html',\n",
       "  'http://mlg.ucd.ie/modules/yalp/review_set_i8pjqv3GIIKOYZhpd3QBPQ.html',\n",
       "  'http://mlg.ucd.ie/modules/yalp/review_set_XfQOsMG18UTx6vNukrEu_A.html',\n",
       "  'http://mlg.ucd.ie/modules/yalp/review_set_IB0h7a9QmXgqXKEjVD7zOA.html',\n",
       "  'http://mlg.ucd.ie/modules/yalp/review_set_9CwCSvya6h767Wd2OiGbLQ.html',\n",
       "  'http://mlg.ucd.ie/modules/yalp/review_set_B2PwNmnJdk2bO4um9JGXvA.html',\n",
       "  'http://mlg.ucd.ie/modules/yalp/review_set_Urylp7lx42wolD_7NawTew.html',\n",
       "  'http://mlg.ucd.ie/modules/yalp/review_set__nsL3sRM1IWIPLSOc0kK0g.html',\n",
       "  'http://mlg.ucd.ie/modules/yalp/review_set_VMm_GnvcmsxHTJEjIrGKXQ.html',\n",
       "  'http://mlg.ucd.ie/modules/yalp/review_set_2BuY5r2GWoai6IAn9FptCg.html',\n",
       "  'http://mlg.ucd.ie/modules/yalp/review_set_9DuZ_29RfFQdrnSIUEqKhw.html',\n",
       "  'http://mlg.ucd.ie/modules/yalp/review_set_tF8MkpYjVxiQ_HIZ2ssPeg.html',\n",
       "  'http://mlg.ucd.ie/modules/yalp/review_set_2Q7_CE63WkTYgsD5dCmVrg.html',\n",
       "  'http://mlg.ucd.ie/modules/yalp/review_set_FJQ1vHzk6RkVNEf-Du2Tsg.html',\n",
       "  'http://mlg.ucd.ie/modules/yalp/review_set_kWqSLhTF60YZXgviZsDzcg.html',\n",
       "  'http://mlg.ucd.ie/modules/yalp/review_set_W7A7BrkYcNl-3TrhYqk07Q.html',\n",
       "  'http://mlg.ucd.ie/modules/yalp/review_set_crpHa5guEmcESWDkjCgN4w.html',\n",
       "  'http://mlg.ucd.ie/modules/yalp/review_set_q-VjnkX18yJ6WJG8Mudg_w.html',\n",
       "  'http://mlg.ucd.ie/modules/yalp/review_set_y8ORUqBslRMvy8XI4obaHw.html',\n",
       "  'http://mlg.ucd.ie/modules/yalp/review_set_NyGH7-3Jv2sVlza_6hux9g.html',\n",
       "  'http://mlg.ucd.ie/modules/yalp/review_set_OdALzsIC2o9MCX0WtAgZDw.html',\n",
       "  'http://mlg.ucd.ie/modules/yalp/review_set_M0i4-YQ03I50t0RimDyP4Q.html',\n",
       "  'http://mlg.ucd.ie/modules/yalp/review_set_rJr1hnAcqT31nLb7F9Nlnw.html',\n",
       "  'http://mlg.ucd.ie/modules/yalp/review_set_0HYJuFHALcoYX-i4B6-hYQ.html',\n",
       "  'http://mlg.ucd.ie/modules/yalp/review_set_BYyibliy88zOO4YQjcBMLA.html',\n",
       "  'http://mlg.ucd.ie/modules/yalp/review_set_pVfDZlvVgU1PGY7A8T9Jow.html',\n",
       "  'http://mlg.ucd.ie/modules/yalp/review_set_z6O2P8bZ9SAqPyjVIl_Dyg.html',\n",
       "  'http://mlg.ucd.ie/modules/yalp/review_set_tKwX_XeMnAyvS_Zpk59i5w.html',\n",
       "  'http://mlg.ucd.ie/modules/yalp/review_set_MqQUriz6cwRzJYid7pRcRw.html'],\n",
       " ['http://mlg.ucd.ie/modules/yalp/index.html',\n",
       "  'http://mlg.ucd.ie/modules/yalp/review_set_UYQJrB84kbL7TUGnoQw2-Q.html',\n",
       "  'http://mlg.ucd.ie/modules/yalp/review_set_6sOoHscadS7xjGhD5f4GzA.html',\n",
       "  'http://mlg.ucd.ie/modules/yalp/review_set_Se9dkAqNfBoOoAbKT0LEsg.html',\n",
       "  'http://mlg.ucd.ie/modules/yalp/review_set_f2ZWZPENViL92BrFsIgR6w.html',\n",
       "  'http://mlg.ucd.ie/modules/yalp/review_set_s1-nT-jK6tHyHMIii5qxtQ.html',\n",
       "  'http://mlg.ucd.ie/modules/yalp/review_set_fQmZFSWGpZIglMgsDRu54w.html',\n",
       "  'http://mlg.ucd.ie/modules/yalp/review_set_mMjsv0EY9tC9wQr-tCq_ng.html',\n",
       "  'http://mlg.ucd.ie/modules/yalp/review_set_adavwFv08LXdBcb2-Ohfug.html',\n",
       "  'http://mlg.ucd.ie/modules/yalp/review_set_Zd8vJ_ypqd0nTW-mpMkXpg.html',\n",
       "  'http://mlg.ucd.ie/modules/yalp/review_set_7UTQs_W0y79WwQeCK9sGdw.html',\n",
       "  'http://mlg.ucd.ie/modules/yalp/review_set_bE85F7GbIscq3Fqu8ghWWA.html',\n",
       "  'http://mlg.ucd.ie/modules/yalp/review_set_aIZ0s-gqcpMEXorWWq2mkw.html',\n",
       "  'http://mlg.ucd.ie/modules/yalp/review_set_0UAmxbjAikZoG0Leds0MFA.html',\n",
       "  'http://mlg.ucd.ie/modules/yalp/review_set_oab_83oIoudmKFrkBYRkIw.html',\n",
       "  'http://mlg.ucd.ie/modules/yalp/review_set_mW4QpvxPAEeiUuMRINqZwg.html',\n",
       "  'http://mlg.ucd.ie/modules/yalp/review_set_whVtKirfGmSmJs_KBBoyfw.html',\n",
       "  'http://mlg.ucd.ie/modules/yalp/review_set_BWeOJgjBmsAHVP5MFlZH8Q.html',\n",
       "  'http://mlg.ucd.ie/modules/yalp/review_set_sWVUI3VUSMTO7SXRN2otLA.html',\n",
       "  'http://mlg.ucd.ie/modules/yalp/review_set_s7X9rXJub41j9JS3QN-pxg.html',\n",
       "  'http://mlg.ucd.ie/modules/yalp/review_set_S6atPSOFzioRsePJKQacVw.html',\n",
       "  'http://mlg.ucd.ie/modules/yalp/review_set_9C24kha7Kzdl_qDJQMModw.html',\n",
       "  'http://mlg.ucd.ie/modules/yalp/review_set_9dVy2u91BRupOtc9Kbiw3A.html',\n",
       "  'http://mlg.ucd.ie/modules/yalp/review_set_DtocV2ot2MH6Ze6T-pyv0w.html',\n",
       "  'http://mlg.ucd.ie/modules/yalp/review_set_e5z5OlNVgbsRhcVG1HZMTQ.html',\n",
       "  'http://mlg.ucd.ie/modules/yalp/review_set_NztyCglNuL88hxU9aUd5xA.html',\n",
       "  'http://mlg.ucd.ie/modules/yalp/review_set_yTJjBt7PsbWxfuAbaCt7OQ.html',\n",
       "  'http://mlg.ucd.ie/modules/yalp/review_set__FMMgDj3AzIrUiiD27qrpw.html',\n",
       "  'http://mlg.ucd.ie/modules/yalp/review_set_yHVgKHkyeF5W42YGgOPxpw.html',\n",
       "  'http://mlg.ucd.ie/modules/yalp/review_set_yKbH7HTvaKbiclLrua1CKw.html',\n",
       "  'http://mlg.ucd.ie/modules/yalp/review_set_X3Mnx6VFiofe1D8RX_H0Cw.html',\n",
       "  'http://mlg.ucd.ie/modules/yalp/review_set_rf9bz-K5iFTGFBLhJzW2zw.html',\n",
       "  'http://mlg.ucd.ie/modules/yalp/review_set_6gohfjae8Sc2ezQzzCN34A.html',\n",
       "  'http://mlg.ucd.ie/modules/yalp/review_set_FmhPRE-RcEgGTv8Vg5JL4g.html',\n",
       "  'http://mlg.ucd.ie/modules/yalp/review_set_yvmYYSO_z6C5abERv6zjIQ.html',\n",
       "  'http://mlg.ucd.ie/modules/yalp/review_set_YyVeZdwsjkMnys0eHNnfUg.html',\n",
       "  'http://mlg.ucd.ie/modules/yalp/review_set_EnxhnHE3P9YF3Ao5UOoVVg.html',\n",
       "  'http://mlg.ucd.ie/modules/yalp/review_set_0nqtCtYUfwXjJVujzU79dg.html',\n",
       "  'http://mlg.ucd.ie/modules/yalp/review_set_N2j-KO-morXY6RjwAWxB9Q.html',\n",
       "  'http://mlg.ucd.ie/modules/yalp/review_set_M4szUD5YDbHW0TxBVzVw6Q.html',\n",
       "  'http://mlg.ucd.ie/modules/yalp/review_set_VZkd5ACfHW1VBIPihdhDtg.html',\n",
       "  'http://mlg.ucd.ie/modules/yalp/review_set_EwARMXQDdn_myECC19TTFw.html',\n",
       "  'http://mlg.ucd.ie/modules/yalp/review_set_tl4NQUBdgxgigZLmGVingw.html',\n",
       "  'http://mlg.ucd.ie/modules/yalp/review_set_ANKKTx6eWW9x711hyK-Txg.html',\n",
       "  'http://mlg.ucd.ie/modules/yalp/review_set_oMtq3-bpu-bu0lbAQrFpDQ.html',\n",
       "  'http://mlg.ucd.ie/modules/yalp/review_set_HvTEmjApeWQxZXJJ9p-I1w.html',\n",
       "  'http://mlg.ucd.ie/modules/yalp/review_set_R0g4X2yxG1TKy1doAyUSpg.html',\n",
       "  'http://mlg.ucd.ie/modules/yalp/review_set_ZLVWlYQQxzZoJbg4w0gsMA.html',\n",
       "  'http://mlg.ucd.ie/modules/yalp/review_set_OVydHLy4n5fn_o1zOPbB9g.html',\n",
       "  'http://mlg.ucd.ie/modules/yalp/review_set_MNXWaIg8poqo2ult7aSCMA.html',\n",
       "  'http://mlg.ucd.ie/modules/yalp/review_set_SKAU3Q1on3vSMnSmdsccqg.html',\n",
       "  'http://mlg.ucd.ie/modules/yalp/review_set_zsb2_Ld_PgomsgaFJbLopg.html',\n",
       "  'http://mlg.ucd.ie/modules/yalp/review_set_m9tqi-_kMMYkKWYFCpk2Vw.html',\n",
       "  'http://mlg.ucd.ie/modules/yalp/review_set_DsUWUs2yvtEvOLAlVNGI1g.html',\n",
       "  'http://mlg.ucd.ie/modules/yalp/review_set_cAjgUS1UZpsZnKeNlXS8TA.html',\n",
       "  'http://mlg.ucd.ie/modules/yalp/review_set_ES64p4ZlDPKv-ZUEB7Tv2g.html',\n",
       "  'http://mlg.ucd.ie/modules/yalp/review_set_9TYGXuvzRpOd-TaBhCPmEA.html',\n",
       "  'http://mlg.ucd.ie/modules/yalp/review_set_fdVQK3SdhXMwdysMVK6EQQ.html',\n",
       "  'http://mlg.ucd.ie/modules/yalp/review_set_qQ1cQEGfngLJhV2IoncfGg.html',\n",
       "  'http://mlg.ucd.ie/modules/yalp/review_set_IkDDjosFZ6y9rVFcO2exEQ.html',\n",
       "  'http://mlg.ucd.ie/modules/yalp/review_set_c3zDuO1toPbxHN8aWhZUkQ.html',\n",
       "  'http://mlg.ucd.ie/modules/yalp/review_set_9JiJ6e8BYfnSkYX1S4N6Vg.html',\n",
       "  'http://mlg.ucd.ie/modules/yalp/review_set_Guh-gFz1XCLf9ROFI4Be5w.html',\n",
       "  'http://mlg.ucd.ie/modules/yalp/review_set_Do8BWrAuK8YgifZ9a_OUFA.html',\n",
       "  'http://mlg.ucd.ie/modules/yalp/review_set_ThtA62lje4ietyen80tYow.html',\n",
       "  'http://mlg.ucd.ie/modules/yalp/review_set_72RU5ypGVljmsoLsAeeloQ.html',\n",
       "  'http://mlg.ucd.ie/modules/yalp/review_set_zTIna6imZC9Ij5JWgHL9jw.html',\n",
       "  'http://mlg.ucd.ie/modules/yalp/review_set_atBWb3PNtR_rUlv1Je6GnQ.html',\n",
       "  'http://mlg.ucd.ie/modules/yalp/review_set_3i1bqDqxGgczbYnm2yJo4g.html',\n",
       "  'http://mlg.ucd.ie/modules/yalp/review_set_SSwTDX9ln3M6PgtrY37_yQ.html',\n",
       "  'http://mlg.ucd.ie/modules/yalp/review_set_LJ6F0Vyias0EpuXAqGcA0Q.html',\n",
       "  'http://mlg.ucd.ie/modules/yalp/review_set_sx4gFb5mI3FzVJrdaIgAKQ.html',\n",
       "  'http://mlg.ucd.ie/modules/yalp/review_set_FyKWx3XQ-vDFbEPv0VGOrQ.html',\n",
       "  'http://mlg.ucd.ie/modules/yalp/review_set_2NczcJyFjRRDEsnoZMbPgw.html',\n",
       "  'http://mlg.ucd.ie/modules/yalp/review_set_Pov3HQWlJ6s_sBBc-CvrdQ.html',\n",
       "  'http://mlg.ucd.ie/modules/yalp/review_set_Gph5gj66pQL3dnksdV6zGA.html',\n",
       "  'http://mlg.ucd.ie/modules/yalp/review_set_spfX7_RgmRYBfrm5y6PaFg.html',\n",
       "  'http://mlg.ucd.ie/modules/yalp/review_set_wgBO_XpaLJ_MapolWUH9hQ.html',\n",
       "  'http://mlg.ucd.ie/modules/yalp/review_set_MxHmZMH0mHlW2YM2m6EOHQ.html',\n",
       "  'http://mlg.ucd.ie/modules/yalp/review_set_bguNicewS5HChJ42HDF9LQ.html',\n",
       "  'http://mlg.ucd.ie/modules/yalp/review_set_mD6B_rD3D53Pd14j1oGvaw.html',\n",
       "  'http://mlg.ucd.ie/modules/yalp/review_set_iiS9PQSKnIhb6LxbOAzqEg.html',\n",
       "  'http://mlg.ucd.ie/modules/yalp/review_set_a-UHm0mN5B3GwvZ8CWLZgA.html',\n",
       "  'http://mlg.ucd.ie/modules/yalp/review_set_D9EuS66Ta35RWOqKC0mRPg.html',\n",
       "  'http://mlg.ucd.ie/modules/yalp/review_set_KC2CUdCEaasdOq6ew9tZYA.html',\n",
       "  'http://mlg.ucd.ie/modules/yalp/review_set_8QHpkczQFY23_zN0v1jx4A.html',\n",
       "  'http://mlg.ucd.ie/modules/yalp/review_set_COI1sSyQXrQTZecXQFB-CQ.html',\n",
       "  'http://mlg.ucd.ie/modules/yalp/review_set_5qsPirS6wfGyw6WpPBphuA.html',\n",
       "  'http://mlg.ucd.ie/modules/yalp/review_set_IQly166np03krernokZtMw.html',\n",
       "  'http://mlg.ucd.ie/modules/yalp/review_set_Y8czMXdMowxKpH6aPgPfLA.html',\n",
       "  'http://mlg.ucd.ie/modules/yalp/review_set_zw5Trj0Xoea-_XMoZVzevQ.html',\n",
       "  'http://mlg.ucd.ie/modules/yalp/review_set_1l23jN7IXzZ_UxJM3uFnhQ.html',\n",
       "  'http://mlg.ucd.ie/modules/yalp/review_set_nMIkE3p4BzAA9Pd3H8yJfQ.html',\n",
       "  'http://mlg.ucd.ie/modules/yalp/review_set_eoBn8hnodDBDYoW3xh6xAQ.html',\n",
       "  'http://mlg.ucd.ie/modules/yalp/review_set_MT8wLzlkNFv0EQ3mNjWvzA.html',\n",
       "  'http://mlg.ucd.ie/modules/yalp/review_set_RF4SJ2UNmTWsfBE5sc7TYQ.html',\n",
       "  'http://mlg.ucd.ie/modules/yalp/review_set_-2wfiUn6AZm2KO0FJYakVQ.html',\n",
       "  'http://mlg.ucd.ie/modules/yalp/review_set_OsrN9pOt3Ero19sjcG9Z8Q.html',\n",
       "  'http://mlg.ucd.ie/modules/yalp/review_set_PQYp8wJ3yHWX4Nbg0jTH3g.html',\n",
       "  'http://mlg.ucd.ie/modules/yalp/review_set_NbJLcLffxFvYTD7MfgCXOg.html',\n",
       "  'http://mlg.ucd.ie/modules/yalp/review_set__Sonv1Q7HfANl3_4aQkB6w.html',\n",
       "  'http://mlg.ucd.ie/modules/yalp/review_set_dOZQTz5ZRc4IWKZygNtjcg.html',\n",
       "  'http://mlg.ucd.ie/modules/yalp/review_set_75jt6HiYR9FvH0xLxin5mQ.html',\n",
       "  'http://mlg.ucd.ie/modules/yalp/review_set_NaLC3FjGCVonrhW9AJ-FdA.html',\n",
       "  'http://mlg.ucd.ie/modules/yalp/review_set_t0piJtSJIisAPCo5ty4hXA.html',\n",
       "  'http://mlg.ucd.ie/modules/yalp/review_set_NlCzRJCVhjZC9rkay1ykfw.html',\n",
       "  'http://mlg.ucd.ie/modules/yalp/review_set_XtEphFLDvw2gAgAgYfTWUA.html',\n",
       "  'http://mlg.ucd.ie/modules/yalp/review_set_qgQMP5cyV8GVsHXGqmt3fQ.html',\n",
       "  'http://mlg.ucd.ie/modules/yalp/review_set_Luw2HWiudyYUQGzafP6iEQ.html',\n",
       "  'http://mlg.ucd.ie/modules/yalp/review_set_tEoiNe-cIz0Vf9e7HlPv_w.html',\n",
       "  'http://mlg.ucd.ie/modules/yalp/review_set_zoMNrBgqt0q4B917RjmSNw.html',\n",
       "  'http://mlg.ucd.ie/modules/yalp/review_set_NMcZQ8viW4OTfPEzXY4Vsg.html',\n",
       "  'http://mlg.ucd.ie/modules/yalp/review_set_C6qCNWD7ik888Ml6IDTjSg.html',\n",
       "  'http://mlg.ucd.ie/modules/yalp/review_set_1Dp_iS3rC98kcIYxO6je1g.html',\n",
       "  'http://mlg.ucd.ie/modules/yalp/review_set_W80J9ERhT0k8xNbW9Lo_sg.html',\n",
       "  'http://mlg.ucd.ie/modules/yalp/review_set_tHdjvI6xtkHPwkIHROkQEw.html',\n",
       "  'http://mlg.ucd.ie/modules/yalp/review_set_XnrOmf2B14J9u76q36_6Mg.html',\n",
       "  'http://mlg.ucd.ie/modules/yalp/review_set_Y6eQw6QpM1EfXZu7FTxJNw.html',\n",
       "  'http://mlg.ucd.ie/modules/yalp/review_set_twX6mYg7TT1ImLUJflt5Tg.html',\n",
       "  'http://mlg.ucd.ie/modules/yalp/review_set_HQbnkwWkcoQVkGMzFaQzGQ.html',\n",
       "  'http://mlg.ucd.ie/modules/yalp/review_set_1E57waB10Z6usQicefQ59g.html',\n",
       "  'http://mlg.ucd.ie/modules/yalp/review_set_QQk14VxeDU1Q_uyhqa1JuA.html',\n",
       "  'http://mlg.ucd.ie/modules/yalp/review_set_L628z58CYaDTDM2psc9n0g.html',\n",
       "  'http://mlg.ucd.ie/modules/yalp/review_set_cph6R6CEnRXAuD7--RkDTA.html',\n",
       "  'http://mlg.ucd.ie/modules/yalp/review_set_AR205VvDCjkUwhbGcVURjA.html',\n",
       "  'http://mlg.ucd.ie/modules/yalp/review_set_Fujo6Q8DxY7Sk5aqGwk-fw.html',\n",
       "  'http://mlg.ucd.ie/modules/yalp/review_set_o7NWSEFd0TSeTzn8NT-liQ.html',\n",
       "  'http://mlg.ucd.ie/modules/yalp/review_set_M2Mdqx6s3qEdZIFoHJn04g.html',\n",
       "  'http://mlg.ucd.ie/modules/yalp/review_set_SabBglkF3qwLpd1xnZN1VA.html',\n",
       "  'http://mlg.ucd.ie/modules/yalp/review_set_fjGKL6cQJl5ynwesu1LkAQ.html',\n",
       "  'http://mlg.ucd.ie/modules/yalp/review_set_-jP13l6qg_5zrpQigf3p_Q.html',\n",
       "  'http://mlg.ucd.ie/modules/yalp/review_set_tJr1JyrRa4QQUzHWbA7xug.html',\n",
       "  'http://mlg.ucd.ie/modules/yalp/review_set_vIMm4Btz5xU7_hgEkp08uA.html',\n",
       "  'http://mlg.ucd.ie/modules/yalp/review_set_fekcrpUkJ8MFppR2Tt6Fig.html',\n",
       "  'http://mlg.ucd.ie/modules/yalp/review_set_KgXq7wzkiKd2FlTyu5_QXQ.html',\n",
       "  'http://mlg.ucd.ie/modules/yalp/review_set_dnqAGRbaYAohR3XlJitxRA.html',\n",
       "  'http://mlg.ucd.ie/modules/yalp/review_set_VgvG9PNyYrSrhNNvISktcQ.html',\n",
       "  'http://mlg.ucd.ie/modules/yalp/review_set_GvujBy-uCgbO1XKbI3eX4g.html',\n",
       "  'http://mlg.ucd.ie/modules/yalp/review_set_OnbGIEGt-crpg0MXHXcBGA.html',\n",
       "  'http://mlg.ucd.ie/modules/yalp/review_set_12yGJ-rF6MUtGuz8Whny5g.html',\n",
       "  'http://mlg.ucd.ie/modules/yalp/review_set_iqEzoPGVDpn-XdjukhTM5g.html',\n",
       "  'http://mlg.ucd.ie/modules/yalp/review_set_FS6hk4QArDMw-mda1vPZkg.html',\n",
       "  'http://mlg.ucd.ie/modules/yalp/review_set_Hr6400ChN3hziIHDt2-hMA.html',\n",
       "  'http://mlg.ucd.ie/modules/yalp/review_set_BBFkGP5KfOY5Y5y3RKISOA.html'],\n",
       " ['http://mlg.ucd.ie/modules/yalp/index.html',\n",
       "  'http://mlg.ucd.ie/modules/yalp/review_set_lAI7jrI7x6OoWC02nKPexg.html',\n",
       "  'http://mlg.ucd.ie/modules/yalp/review_set__0Dnm5H7LdZJjfpCgb3-UQ.html',\n",
       "  'http://mlg.ucd.ie/modules/yalp/review_set_1T6N959Q85RcNol_TuULew.html',\n",
       "  'http://mlg.ucd.ie/modules/yalp/review_set__yvfejU7gP5rQcTnNok2Bw.html',\n",
       "  'http://mlg.ucd.ie/modules/yalp/review_set_LHXisknIbUy_XtdEQc7x9w.html',\n",
       "  'http://mlg.ucd.ie/modules/yalp/review_set_0YGrktLekaG39iEWrvAhSw.html',\n",
       "  'http://mlg.ucd.ie/modules/yalp/review_set_ho1vUk9R7Ole9aNmX6NMDA.html',\n",
       "  'http://mlg.ucd.ie/modules/yalp/review_set_5HwBX7gq2a3HkbPusIkypg.html',\n",
       "  'http://mlg.ucd.ie/modules/yalp/review_set_hBZxyhnmQ3QSmCarG3QZNA.html',\n",
       "  'http://mlg.ucd.ie/modules/yalp/review_set_ZiOWBZAgaiVJG-u7nX8IgQ.html',\n",
       "  'http://mlg.ucd.ie/modules/yalp/review_set_hvCB1FWoaF4mSXhsVD3KCw.html',\n",
       "  'http://mlg.ucd.ie/modules/yalp/review_set_QOzPgKUzLomJe7SvsA3EFg.html',\n",
       "  'http://mlg.ucd.ie/modules/yalp/review_set_K2G1gzYsN--_zcNBYb0SRw.html',\n",
       "  'http://mlg.ucd.ie/modules/yalp/review_set_0Xf5VcIsqWQTSyV46j1g4Q.html',\n",
       "  'http://mlg.ucd.ie/modules/yalp/review_set_-qAQCoYpa5naEqPL8Chuig.html',\n",
       "  'http://mlg.ucd.ie/modules/yalp/review_set_nhIWy8eXayUvDzAz3Ef-Og.html',\n",
       "  'http://mlg.ucd.ie/modules/yalp/review_set_ib0cmmBquUJ0xHcsIRQthQ.html',\n",
       "  'http://mlg.ucd.ie/modules/yalp/review_set_R6ezlXlUBlfzeI_sJ4xuGQ.html',\n",
       "  'http://mlg.ucd.ie/modules/yalp/review_set_TGuwot0wJLcQUfbxDQs3JA.html',\n",
       "  'http://mlg.ucd.ie/modules/yalp/review_set_CRIgrJTqZl4rMGdHhbvPRQ.html',\n",
       "  'http://mlg.ucd.ie/modules/yalp/review_set_NGSqXijVxL3qvrkye66BzQ.html',\n",
       "  'http://mlg.ucd.ie/modules/yalp/review_set_rZUK25ho_Wmgv5tRAs7LMA.html',\n",
       "  'http://mlg.ucd.ie/modules/yalp/review_set_wFIaGdC9SWf2BNYiPflv7g.html',\n",
       "  'http://mlg.ucd.ie/modules/yalp/review_set_F9cIT7WD2-AgovgZ-INoRg.html',\n",
       "  'http://mlg.ucd.ie/modules/yalp/review_set_EWBZ3fBADD0iOxWG8-Zsaw.html',\n",
       "  'http://mlg.ucd.ie/modules/yalp/review_set_d6CPd6Rg__Hw-5ArLQ_k4Q.html',\n",
       "  'http://mlg.ucd.ie/modules/yalp/review_set_Cf_6Axu_TOGx9cbfKqbabA.html',\n",
       "  'http://mlg.ucd.ie/modules/yalp/review_set_Sb_Y5XKPVxnL1NN4YuUAjQ.html',\n",
       "  'http://mlg.ucd.ie/modules/yalp/review_set_HDP48FzTpoZTRsFpBL8Njw.html',\n",
       "  'http://mlg.ucd.ie/modules/yalp/review_set_on2KIpLjeBt8lVt5qF_1RA.html',\n",
       "  'http://mlg.ucd.ie/modules/yalp/review_set_TubOHOaeRA9LTlCf4CtbrA.html',\n",
       "  'http://mlg.ucd.ie/modules/yalp/review_set_7KZAmn7C1ogJH5l6B8D8TQ.html',\n",
       "  'http://mlg.ucd.ie/modules/yalp/review_set_s2o7mmVE3Xvr9pVpIbKuqw.html',\n",
       "  'http://mlg.ucd.ie/modules/yalp/review_set_UnsOYAx1DvJRh1OxUtEJ1w.html',\n",
       "  'http://mlg.ucd.ie/modules/yalp/review_set_wJPqoz7zg4-npig0JqoWpA.html',\n",
       "  'http://mlg.ucd.ie/modules/yalp/review_set_XG4sSq0JQ-3o3KrN-0d8Pg.html',\n",
       "  'http://mlg.ucd.ie/modules/yalp/review_set_cBJURohUbfrWmZAs8Yt6zA.html',\n",
       "  'http://mlg.ucd.ie/modules/yalp/review_set_5coRSpthYajgefF9R1cXDQ.html',\n",
       "  'http://mlg.ucd.ie/modules/yalp/review_set_vSBD_Rel0LTSnNWYUPrFFA.html',\n",
       "  'http://mlg.ucd.ie/modules/yalp/review_set_wdk3se7e9aI35GTCiVkcyA.html',\n",
       "  'http://mlg.ucd.ie/modules/yalp/review_set_sJvn6FXQ6USpbn2poEp88g.html',\n",
       "  'http://mlg.ucd.ie/modules/yalp/review_set_8QqPTCo3VkVHf4G6JA8OLw.html',\n",
       "  'http://mlg.ucd.ie/modules/yalp/review_set_km8B__vM2X2ML7txqWzF4A.html',\n",
       "  'http://mlg.ucd.ie/modules/yalp/review_set_-ucQnELMVRIUOi3-Kv5r0Q.html',\n",
       "  'http://mlg.ucd.ie/modules/yalp/review_set_-59qsDRpa1NQLcg1y6zuPg.html',\n",
       "  'http://mlg.ucd.ie/modules/yalp/review_set_JjYtyoEYnNw7mpXevHE_Ww.html',\n",
       "  'http://mlg.ucd.ie/modules/yalp/review_set_8_QKutB_FqV05o38ySEG7A.html',\n",
       "  'http://mlg.ucd.ie/modules/yalp/review_set_JmZj7wzAJ7_4ksjG9WXdqw.html',\n",
       "  'http://mlg.ucd.ie/modules/yalp/review_set_6QQTNpjFjYy6fvpG0bi33w.html',\n",
       "  'http://mlg.ucd.ie/modules/yalp/review_set_K_FoujvpYuvTBz5hVxxoxQ.html',\n",
       "  'http://mlg.ucd.ie/modules/yalp/review_set_eEnNw3_hBvxcFHyr23kAuA.html',\n",
       "  'http://mlg.ucd.ie/modules/yalp/review_set_TlgwWTF7omCI2SBChEiBSA.html',\n",
       "  'http://mlg.ucd.ie/modules/yalp/review_set_GdzUXAqSPvH77jgQbdofVQ.html',\n",
       "  'http://mlg.ucd.ie/modules/yalp/review_set_A0PeZ5bSZMacGbC8RgUU3A.html',\n",
       "  'http://mlg.ucd.ie/modules/yalp/review_set_sv-m0Oynw9P8QLjfgAzVHw.html',\n",
       "  'http://mlg.ucd.ie/modules/yalp/review_set_bxwZrJ58a0NoNI4chLbyAw.html',\n",
       "  'http://mlg.ucd.ie/modules/yalp/review_set_iMpS5Q1ui6kkO2tf31K-wQ.html',\n",
       "  'http://mlg.ucd.ie/modules/yalp/review_set_W1fPf248xyubhrBqfJ3PrQ.html',\n",
       "  'http://mlg.ucd.ie/modules/yalp/review_set_Ycn-l-X6joxbVQzgxjXpRQ.html',\n",
       "  'http://mlg.ucd.ie/modules/yalp/review_set_YBb-NJm0078ELrTw4T8NTQ.html',\n",
       "  'http://mlg.ucd.ie/modules/yalp/review_set_GoVRPbvG9oLfNZ54v4nYbw.html',\n",
       "  'http://mlg.ucd.ie/modules/yalp/review_set_Ou7atDIVAKz2ZmxRUGlneg.html',\n",
       "  'http://mlg.ucd.ie/modules/yalp/review_set__r_9fnwe5VCFRjm3z2HiBA.html',\n",
       "  'http://mlg.ucd.ie/modules/yalp/review_set_SzidKLlwHW6xw3tjrmNbeA.html',\n",
       "  'http://mlg.ucd.ie/modules/yalp/review_set_piAAi-H1MDh4mOXPgu3okA.html',\n",
       "  'http://mlg.ucd.ie/modules/yalp/review_set_j-w4K1ZbZJw1M9Z-CauFzA.html',\n",
       "  'http://mlg.ucd.ie/modules/yalp/review_set_SGjy-d7Ysuz7Ap0vsKVPMA.html',\n",
       "  'http://mlg.ucd.ie/modules/yalp/review_set_H51GLza7miSx-PJf4vI7Qw.html',\n",
       "  'http://mlg.ucd.ie/modules/yalp/review_set_V9THpMJoHCgwuJY1Elj_zw.html',\n",
       "  'http://mlg.ucd.ie/modules/yalp/review_set_FSxWmiTFLBPR6Yb8y1TeCg.html',\n",
       "  'http://mlg.ucd.ie/modules/yalp/review_set_aCAR9b5DTxfXVNq4kcLzsg.html',\n",
       "  'http://mlg.ucd.ie/modules/yalp/review_set_eAc9Vd6loOgRQolMXQt6FA.html',\n",
       "  'http://mlg.ucd.ie/modules/yalp/review_set_s7WZTJQxs5MR9HSHQyg7rw.html',\n",
       "  'http://mlg.ucd.ie/modules/yalp/review_set_ffUcgeCq93RXNqQ8sqXU7w.html',\n",
       "  'http://mlg.ucd.ie/modules/yalp/review_set_m3bgjLWX7s8HXxYTKYjKzg.html',\n",
       "  'http://mlg.ucd.ie/modules/yalp/review_set_ALatQRQeY1Bi60bJ2WgDGA.html',\n",
       "  'http://mlg.ucd.ie/modules/yalp/review_set_Nwkn_m8e0R8fx_XKhfgRHw.html',\n",
       "  'http://mlg.ucd.ie/modules/yalp/review_set_Pa-R4o5I6BmCoI6y8N9oFQ.html',\n",
       "  'http://mlg.ucd.ie/modules/yalp/review_set_MiUrif_vYOuITF4ALf7WHA.html',\n",
       "  'http://mlg.ucd.ie/modules/yalp/review_set_rgkiZQF5GUiMEM2xa83grQ.html',\n",
       "  'http://mlg.ucd.ie/modules/yalp/review_set_pOidKp4POMXsnAXWo921fw.html',\n",
       "  'http://mlg.ucd.ie/modules/yalp/review_set_qdktF3_1O7OOre6yMppubQ.html',\n",
       "  'http://mlg.ucd.ie/modules/yalp/review_set_1l-6sFjSKgQ7zIlvlX8uiw.html',\n",
       "  'http://mlg.ucd.ie/modules/yalp/review_set_vAeE7AQruc3N6OVMHQwylA.html',\n",
       "  'http://mlg.ucd.ie/modules/yalp/review_set_SJZFzBeCAZEW4u8wQsGbSw.html',\n",
       "  'http://mlg.ucd.ie/modules/yalp/review_set__PIxbGyLZONKMI3MV8sR6w.html',\n",
       "  'http://mlg.ucd.ie/modules/yalp/review_set_E6U4MXiyezvOvCgMvlkDZw.html',\n",
       "  'http://mlg.ucd.ie/modules/yalp/review_set_erd9VSrJCP_lYeTaKzpRfA.html',\n",
       "  'http://mlg.ucd.ie/modules/yalp/review_set_CSc_152hwhSHIzto8tLJ7w.html',\n",
       "  'http://mlg.ucd.ie/modules/yalp/review_set_LgrGYXtuwumUODemA66VGQ.html',\n",
       "  'http://mlg.ucd.ie/modules/yalp/review_set_Kx5YcgpOhA6AV4byNVMEHg.html',\n",
       "  'http://mlg.ucd.ie/modules/yalp/review_set_X4rz4RgG6exo0KnREVr7AA.html',\n",
       "  'http://mlg.ucd.ie/modules/yalp/review_set_rTZVcJZ8G80i6NjLw0SW8Q.html',\n",
       "  'http://mlg.ucd.ie/modules/yalp/review_set_TyFerJhQzfzyToTJwmh_QQ.html',\n",
       "  'http://mlg.ucd.ie/modules/yalp/review_set_MVtB0uLZ9x_0HG6_MsyRXA.html',\n",
       "  'http://mlg.ucd.ie/modules/yalp/review_set_n9r6Rxr3gxbZiSHWEB7ujg.html',\n",
       "  'http://mlg.ucd.ie/modules/yalp/review_set_VbRhikPI-Mmweau5WBv5CQ.html',\n",
       "  'http://mlg.ucd.ie/modules/yalp/review_set_7eb-UQiUkQJVyJAknCymUg.html',\n",
       "  'http://mlg.ucd.ie/modules/yalp/review_set_NFVMfPRzFSA_3g6bqHreRg.html',\n",
       "  'http://mlg.ucd.ie/modules/yalp/review_set_sgnqFImVFaWEJDjYz71m0w.html',\n",
       "  'http://mlg.ucd.ie/modules/yalp/review_set_2QoIgLVJBreZvBDFu4pdcg.html',\n",
       "  'http://mlg.ucd.ie/modules/yalp/review_set_HGhXbgeMEcg1cIZwxyNDeg.html',\n",
       "  'http://mlg.ucd.ie/modules/yalp/review_set_yg0fwJoTyQOYYYKmwTSk7w.html',\n",
       "  'http://mlg.ucd.ie/modules/yalp/review_set_M-uo9HTEJEx7cS0eCsQyUg.html',\n",
       "  'http://mlg.ucd.ie/modules/yalp/review_set_Wxxvi3LZbHNIDwJ-ZimtnA.html',\n",
       "  'http://mlg.ucd.ie/modules/yalp/review_set_fbbO2vNsYPhi11Se7T95lQ.html',\n",
       "  'http://mlg.ucd.ie/modules/yalp/review_set_aPlGRDxKaA6JkE5mY66g0w.html',\n",
       "  'http://mlg.ucd.ie/modules/yalp/review_set_9UFz3K9_uD3EUirEOgbbBg.html',\n",
       "  'http://mlg.ucd.ie/modules/yalp/review_set_PKA4nC6EKdBFnyY-BuZcfw.html',\n",
       "  'http://mlg.ucd.ie/modules/yalp/review_set_XYNgHswZjNxKayj7FUFAng.html',\n",
       "  'http://mlg.ucd.ie/modules/yalp/review_set_zJCbSgXWFWwvKiIRFFuiTA.html',\n",
       "  'http://mlg.ucd.ie/modules/yalp/review_set_6rNqiBT0znKYGTHJ1S59mg.html',\n",
       "  'http://mlg.ucd.ie/modules/yalp/review_set_lBqkAjOhm-LMHt6y1Ap_QA.html']]"
      ]
     },
     "execution_count": 8,
     "metadata": {},
     "output_type": "execute_result"
    }
   ],
   "source": [
    "sublinks = [ [link+c for c in a] for a in sublinks]\n",
    "sublinks"
   ]
  },
  {
   "cell_type": "code",
   "execution_count": 9,
   "metadata": {},
   "outputs": [],
   "source": [
    "df=[] # Creating an empty list to store three dataframes.\n",
    "i=0\n",
    "for data in sublinks:\n",
    "    e=[] # stores the Reviews of each category for every iteration\n",
    "    rat=[] # stores the Ratings of each category for every iteration\n",
    "    for d in data:\n",
    "        response = urllib.request.urlopen(d)\n",
    "        html = response.read().decode()\n",
    "        parser = bs4.BeautifulSoup(html,\"html.parser\")\n",
    "        for linkk in parser.find_all('p',class_='review-text'):\n",
    "            e.append(linkk.text)\n",
    "        for ratings in parser.findAll('img'):\n",
    "            if ratings.get('alt')!=None:\n",
    "                if int(ratings.get('alt')[0])<4:  #  1-star to 3-star reviews are “negative”, and 4-star to 5-star reviews as “positive”.\n",
    "                    rat.append('Negative')\n",
    "                else:\n",
    "                    rat.append('Positive')\n",
    "        \n",
    "    df.append(pd.DataFrame(e)) # Appending the three datadrame into a list\n",
    "    df[i]['Ratings']=rat       # Creating a new column Ratings which stores the rating \"Positive\" and \"Negative\".\n",
    "    i=i+1"
   ]
  },
  {
   "cell_type": "code",
   "execution_count": 10,
   "metadata": {},
   "outputs": [],
   "source": [
    "# Renaming the column names in dataframes\n",
    "df[0].columns=['Gym Review','Ratings']\n",
    "df[1].columns=['Hair Salon Review','Ratings']\n",
    "df[2].columns=['Hotel Review','Ratings']"
   ]
  },
  {
   "cell_type": "code",
   "execution_count": 11,
   "metadata": {},
   "outputs": [],
   "source": [
    "# Creating csv files for three categories\n",
    "df[0].to_csv('Gym.csv', index=False)\n",
    "df[1].to_csv('HairSalon.csv', index=False)\n",
    "df[2].to_csv('Hotel.csv', index=False)"
   ]
  },
  {
   "cell_type": "markdown",
   "metadata": {},
   "source": [
    "#### Loading the data using an appropriate data structure."
   ]
  },
  {
   "cell_type": "code",
   "execution_count": 12,
   "metadata": {},
   "outputs": [],
   "source": [
    "gym_df = pd.read_csv('Gym.csv')  # reading gym csv\n",
    "hair_saln_df = pd.read_csv('HairSalon.csv') # reading Hair salons csv\n",
    "hotel_df = pd.read_csv('Hotel.csv') # reading Hotels csv"
   ]
  },
  {
   "cell_type": "code",
   "execution_count": 13,
   "metadata": {},
   "outputs": [
    {
     "data": {
      "text/html": [
       "<div>\n",
       "<style scoped>\n",
       "    .dataframe tbody tr th:only-of-type {\n",
       "        vertical-align: middle;\n",
       "    }\n",
       "\n",
       "    .dataframe tbody tr th {\n",
       "        vertical-align: top;\n",
       "    }\n",
       "\n",
       "    .dataframe thead th {\n",
       "        text-align: right;\n",
       "    }\n",
       "</style>\n",
       "<table border=\"1\" class=\"dataframe\">\n",
       "  <thead>\n",
       "    <tr style=\"text-align: right;\">\n",
       "      <th></th>\n",
       "      <th>Gym Review</th>\n",
       "      <th>Ratings</th>\n",
       "    </tr>\n",
       "  </thead>\n",
       "  <tbody>\n",
       "    <tr>\n",
       "      <th>0</th>\n",
       "      <td>If you're looking for boxing in the East Valle...</td>\n",
       "      <td>Positive</td>\n",
       "    </tr>\n",
       "    <tr>\n",
       "      <th>1</th>\n",
       "      <td>I was really excited to try a fun workout rout...</td>\n",
       "      <td>Negative</td>\n",
       "    </tr>\n",
       "    <tr>\n",
       "      <th>2</th>\n",
       "      <td>I was interested in taking a boxing bootcamp c...</td>\n",
       "      <td>Negative</td>\n",
       "    </tr>\n",
       "    <tr>\n",
       "      <th>3</th>\n",
       "      <td>I worked out at 1 on 1 boxing for a bout 6 mon...</td>\n",
       "      <td>Positive</td>\n",
       "    </tr>\n",
       "    <tr>\n",
       "      <th>4</th>\n",
       "      <td>This place literally KICKED my butt every. sin...</td>\n",
       "      <td>Positive</td>\n",
       "    </tr>\n",
       "  </tbody>\n",
       "</table>\n",
       "</div>"
      ],
      "text/plain": [
       "                                          Gym Review   Ratings\n",
       "0  If you're looking for boxing in the East Valle...  Positive\n",
       "1  I was really excited to try a fun workout rout...  Negative\n",
       "2  I was interested in taking a boxing bootcamp c...  Negative\n",
       "3  I worked out at 1 on 1 boxing for a bout 6 mon...  Positive\n",
       "4  This place literally KICKED my butt every. sin...  Positive"
      ]
     },
     "execution_count": 13,
     "metadata": {},
     "output_type": "execute_result"
    }
   ],
   "source": [
    "gym_df.head(5)"
   ]
  },
  {
   "cell_type": "code",
   "execution_count": 14,
   "metadata": {},
   "outputs": [
    {
     "data": {
      "text/html": [
       "<div>\n",
       "<style scoped>\n",
       "    .dataframe tbody tr th:only-of-type {\n",
       "        vertical-align: middle;\n",
       "    }\n",
       "\n",
       "    .dataframe tbody tr th {\n",
       "        vertical-align: top;\n",
       "    }\n",
       "\n",
       "    .dataframe thead th {\n",
       "        text-align: right;\n",
       "    }\n",
       "</style>\n",
       "<table border=\"1\" class=\"dataframe\">\n",
       "  <thead>\n",
       "    <tr style=\"text-align: right;\">\n",
       "      <th></th>\n",
       "      <th>Hair Salon Review</th>\n",
       "      <th>Ratings</th>\n",
       "    </tr>\n",
       "  </thead>\n",
       "  <tbody>\n",
       "    <tr>\n",
       "      <th>0</th>\n",
       "      <td>One of the best barbershops I've been to, with...</td>\n",
       "      <td>Positive</td>\n",
       "    </tr>\n",
       "    <tr>\n",
       "      <th>1</th>\n",
       "      <td>Took my son in for a haircut. Barber was great...</td>\n",
       "      <td>Positive</td>\n",
       "    </tr>\n",
       "    <tr>\n",
       "      <th>2</th>\n",
       "      <td>Walked in, said hi. The only barber in there d...</td>\n",
       "      <td>Negative</td>\n",
       "    </tr>\n",
       "    <tr>\n",
       "      <th>3</th>\n",
       "      <td>I came here 10 minutes before 9am to get a hai...</td>\n",
       "      <td>Negative</td>\n",
       "    </tr>\n",
       "    <tr>\n",
       "      <th>4</th>\n",
       "      <td>Great haircut. No fuss no muss, I asked for la...</td>\n",
       "      <td>Positive</td>\n",
       "    </tr>\n",
       "  </tbody>\n",
       "</table>\n",
       "</div>"
      ],
      "text/plain": [
       "                                   Hair Salon Review   Ratings\n",
       "0  One of the best barbershops I've been to, with...  Positive\n",
       "1  Took my son in for a haircut. Barber was great...  Positive\n",
       "2  Walked in, said hi. The only barber in there d...  Negative\n",
       "3  I came here 10 minutes before 9am to get a hai...  Negative\n",
       "4  Great haircut. No fuss no muss, I asked for la...  Positive"
      ]
     },
     "execution_count": 14,
     "metadata": {},
     "output_type": "execute_result"
    }
   ],
   "source": [
    "hair_saln_df.head(5)"
   ]
  },
  {
   "cell_type": "code",
   "execution_count": 15,
   "metadata": {},
   "outputs": [
    {
     "data": {
      "text/html": [
       "<div>\n",
       "<style scoped>\n",
       "    .dataframe tbody tr th:only-of-type {\n",
       "        vertical-align: middle;\n",
       "    }\n",
       "\n",
       "    .dataframe tbody tr th {\n",
       "        vertical-align: top;\n",
       "    }\n",
       "\n",
       "    .dataframe thead th {\n",
       "        text-align: right;\n",
       "    }\n",
       "</style>\n",
       "<table border=\"1\" class=\"dataframe\">\n",
       "  <thead>\n",
       "    <tr style=\"text-align: right;\">\n",
       "      <th></th>\n",
       "      <th>Hotel Review</th>\n",
       "      <th>Ratings</th>\n",
       "    </tr>\n",
       "  </thead>\n",
       "  <tbody>\n",
       "    <tr>\n",
       "      <th>0</th>\n",
       "      <td>Melissa took us on a tour of Asia in the space...</td>\n",
       "      <td>Positive</td>\n",
       "    </tr>\n",
       "    <tr>\n",
       "      <th>1</th>\n",
       "      <td>With a group of seven of us visiting Montreal ...</td>\n",
       "      <td>Positive</td>\n",
       "    </tr>\n",
       "    <tr>\n",
       "      <th>2</th>\n",
       "      <td>Melissa is a gem! My fiancé found her tour on ...</td>\n",
       "      <td>Positive</td>\n",
       "    </tr>\n",
       "    <tr>\n",
       "      <th>3</th>\n",
       "      <td>A perfect day in Montreal! Melissa outfitted u...</td>\n",
       "      <td>Positive</td>\n",
       "    </tr>\n",
       "    <tr>\n",
       "      <th>4</th>\n",
       "      <td>I had a really great food truck tour with Meli...</td>\n",
       "      <td>Positive</td>\n",
       "    </tr>\n",
       "  </tbody>\n",
       "</table>\n",
       "</div>"
      ],
      "text/plain": [
       "                                        Hotel Review   Ratings\n",
       "0  Melissa took us on a tour of Asia in the space...  Positive\n",
       "1  With a group of seven of us visiting Montreal ...  Positive\n",
       "2  Melissa is a gem! My fiancé found her tour on ...  Positive\n",
       "3  A perfect day in Montreal! Melissa outfitted u...  Positive\n",
       "4  I had a really great food truck tour with Meli...  Positive"
      ]
     },
     "execution_count": 15,
     "metadata": {},
     "output_type": "execute_result"
    }
   ],
   "source": [
    "hotel_df.head(5)"
   ]
  },
  {
   "cell_type": "markdown",
   "metadata": {},
   "source": [
    "###  Applying Text Preprocessing steps for classification"
   ]
  },
  {
   "cell_type": "markdown",
   "metadata": {},
   "source": [
    "A range of steps can be used for text preprocessing:\n",
    "- Minimum term length: Exclude terms of length < 2.\n",
    "- Case conversion: Converting all terms to lowercase.\n",
    "- Stop-word filtering: Remove terms that appear on a pre-defined \"blacklist\" of terms that are highly frequent and do- not convey useful information.\n",
    "- Low frequency filtering: Remove terms that appear in very few reviews.\n",
    "- Stemming: Reduce words to their stems (or base forms)."
   ]
  },
  {
   "cell_type": "code",
   "execution_count": 16,
   "metadata": {},
   "outputs": [],
   "source": [
    "#Function to remove punctuation and non-alphabetic characters\n",
    "\n",
    "def cleanPunc(sentence): # Function to clean the word of any punctuation or special characters\n",
    "    cleaned = re.sub(r'[?|!|\\'|\"|#]',r'',sentence)\n",
    "    cleaned = re.sub(r'[.|,|)|(|\\|/]',r' ',cleaned)\n",
    "    cleaned = cleaned.strip()\n",
    "    cleaned = cleaned.replace(\"\\n\",\" \")\n",
    "    return cleaned\n",
    "def keepAlpha(sentence):\n",
    "    alpha_sent = \"\"\n",
    "    for word in sentence.split():\n",
    "        alpha_word = re.sub('[^a-z A-Z]+', ' ', word)\n",
    "        alpha_sent += alpha_word\n",
    "        alpha_sent += \" \"\n",
    "    alpha_sent = alpha_sent.strip()\n",
    "    return alpha_sent\n",
    "\n",
    "\n",
    "#Converting all terms of 'gym review' , 'hair salon review' and 'hotel review' to lowercase.\n",
    "gym_df['Gym Review'] = gym_df['Gym Review'].str.lower()  \n",
    "hair_saln_df['Hair Salon Review'] = hair_saln_df['Hair Salon Review'].str.lower()\n",
    "hotel_df['Hotel Review'] = hotel_df['Hotel Review'].str.lower()\n",
    "\n",
    "#Cleaning punctuation from 'gym review' , 'hair salon review' and 'hotel review'\n",
    "gym_df['Gym Review'] = gym_df['Gym Review'].apply(cleanPunc)\n",
    "hair_saln_df['Hair Salon Review'] = hair_saln_df['Hair Salon Review'].apply(cleanPunc)\n",
    "hotel_df['Hotel Review'] = hotel_df['Hotel Review'].apply(cleanPunc)\n",
    "\n",
    "#Removing non-alphabetic characters from 'gym review' , 'hair salon review' and 'hotel review'\n",
    "gym_df['Gym Review'] = gym_df['Gym Review'].apply(keepAlpha)\n",
    "hair_saln_df['Hair Salon Review'] = hair_saln_df['Hair Salon Review'].apply(keepAlpha)\n",
    "hotel_df['Hotel Review'] = hotel_df['Hotel Review'].apply(keepAlpha)"
   ]
  },
  {
   "cell_type": "code",
   "execution_count": 17,
   "metadata": {},
   "outputs": [],
   "source": [
    "# Function to remove all the stop-words\n",
    "\n",
    "stop_words = set(stopwords.words('english'))\n",
    "re_stop_words = re.compile(r\"\\b(\" + \"|\".join(stop_words) + \")\\\\W\", re.I)\n",
    "def removeStopWords(sentence):\n",
    "    global re_stop_words\n",
    "    return re_stop_words.sub(\" \", sentence)\n",
    "\n",
    "#Removing all the stop-words from 'gym review' , 'hair salon review' and 'hotel review'\n",
    "gym_df['Gym Review'] = gym_df['Gym Review'].apply(removeStopWords)\n",
    "hair_saln_df['Hair Salon Review'] = hair_saln_df['Hair Salon Review'].apply(removeStopWords)\n",
    "hotel_df['Hotel Review'] = hotel_df['Hotel Review'].apply(removeStopWords)"
   ]
  },
  {
   "cell_type": "code",
   "execution_count": 18,
   "metadata": {},
   "outputs": [],
   "source": [
    "# Function to performing Stemming\n",
    "stemmer = SnowballStemmer(\"english\")\n",
    "def stemming(sentence):\n",
    "    stemSentence = \"\"\n",
    "    for word in sentence.split():\n",
    "        stem = stemmer.stem(word)\n",
    "        stemSentence += stem\n",
    "        stemSentence += \" \"\n",
    "    stemSentence = stemSentence.strip()\n",
    "    return stemSentence\n",
    "\n",
    "# performing Stemming on 'gym review' , 'hair salon review' and 'hotel review'\n",
    "gym_df['Gym Review'] = gym_df['Gym Review'].apply(stemming)\n",
    "hair_saln_df['Hair Salon Review'] = hair_saln_df['Hair Salon Review'].apply(stemming)\n",
    "hotel_df['Hotel Review'] = hotel_df['Hotel Review'].apply(stemming)"
   ]
  },
  {
   "cell_type": "code",
   "execution_count": 19,
   "metadata": {},
   "outputs": [],
   "source": [
    "# Factorize creates a unique numeric representation of the Ratings with Negative as 1 and Positive as 0\n",
    "gym_df['category_id'] = df[0]['Ratings'].factorize()[0]\n",
    "hair_saln_df['category_id'] = df[1]['Ratings'].factorize()[0]\n",
    "hotel_df['category_id'] = df[1]['Ratings'].factorize()[0]"
   ]
  },
  {
   "cell_type": "code",
   "execution_count": 20,
   "metadata": {},
   "outputs": [
    {
     "data": {
      "text/html": [
       "<div>\n",
       "<style scoped>\n",
       "    .dataframe tbody tr th:only-of-type {\n",
       "        vertical-align: middle;\n",
       "    }\n",
       "\n",
       "    .dataframe tbody tr th {\n",
       "        vertical-align: top;\n",
       "    }\n",
       "\n",
       "    .dataframe thead th {\n",
       "        text-align: right;\n",
       "    }\n",
       "</style>\n",
       "<table border=\"1\" class=\"dataframe\">\n",
       "  <thead>\n",
       "    <tr style=\"text-align: right;\">\n",
       "      <th></th>\n",
       "      <th>Gym Review</th>\n",
       "      <th>Ratings</th>\n",
       "      <th>category_id</th>\n",
       "    </tr>\n",
       "  </thead>\n",
       "  <tbody>\n",
       "    <tr>\n",
       "      <th>0</th>\n",
       "      <td>your look box east valley high recommend gym o...</td>\n",
       "      <td>Positive</td>\n",
       "      <td>0</td>\n",
       "    </tr>\n",
       "    <tr>\n",
       "      <th>1</th>\n",
       "      <td>realli excit tri fun workout routin would also...</td>\n",
       "      <td>Negative</td>\n",
       "      <td>1</td>\n",
       "    </tr>\n",
       "    <tr>\n",
       "      <th>2</th>\n",
       "      <td>interest take box bootcamp class research foun...</td>\n",
       "      <td>Negative</td>\n",
       "      <td>1</td>\n",
       "    </tr>\n",
       "    <tr>\n",
       "      <th>3</th>\n",
       "      <td>work box bout month love price reason although...</td>\n",
       "      <td>Positive</td>\n",
       "      <td>0</td>\n",
       "    </tr>\n",
       "    <tr>\n",
       "      <th>4</th>\n",
       "      <td>place liter kick butt everi singl time actual ...</td>\n",
       "      <td>Positive</td>\n",
       "      <td>0</td>\n",
       "    </tr>\n",
       "  </tbody>\n",
       "</table>\n",
       "</div>"
      ],
      "text/plain": [
       "                                          Gym Review   Ratings  category_id\n",
       "0  your look box east valley high recommend gym o...  Positive            0\n",
       "1  realli excit tri fun workout routin would also...  Negative            1\n",
       "2  interest take box bootcamp class research foun...  Negative            1\n",
       "3  work box bout month love price reason although...  Positive            0\n",
       "4  place liter kick butt everi singl time actual ...  Positive            0"
      ]
     },
     "execution_count": 20,
     "metadata": {},
     "output_type": "execute_result"
    }
   ],
   "source": [
    "gym_df.head(5)"
   ]
  },
  {
   "cell_type": "code",
   "execution_count": 21,
   "metadata": {},
   "outputs": [
    {
     "data": {
      "text/html": [
       "<div>\n",
       "<style scoped>\n",
       "    .dataframe tbody tr th:only-of-type {\n",
       "        vertical-align: middle;\n",
       "    }\n",
       "\n",
       "    .dataframe tbody tr th {\n",
       "        vertical-align: top;\n",
       "    }\n",
       "\n",
       "    .dataframe thead th {\n",
       "        text-align: right;\n",
       "    }\n",
       "</style>\n",
       "<table border=\"1\" class=\"dataframe\">\n",
       "  <thead>\n",
       "    <tr style=\"text-align: right;\">\n",
       "      <th></th>\n",
       "      <th>Hair Salon Review</th>\n",
       "      <th>Ratings</th>\n",
       "      <th>category_id</th>\n",
       "    </tr>\n",
       "  </thead>\n",
       "  <tbody>\n",
       "    <tr>\n",
       "      <th>0</th>\n",
       "      <td>one best barbershop ive great price honest cou...</td>\n",
       "      <td>Positive</td>\n",
       "      <td>0</td>\n",
       "    </tr>\n",
       "    <tr>\n",
       "      <th>1</th>\n",
       "      <td>took son haircut barber great exact want clean...</td>\n",
       "      <td>Positive</td>\n",
       "      <td>0</td>\n",
       "    </tr>\n",
       "    <tr>\n",
       "      <th>2</th>\n",
       "      <td>walk said hi barber courtesi say hi back busi ...</td>\n",
       "      <td>Negative</td>\n",
       "      <td>1</td>\n",
       "    </tr>\n",
       "    <tr>\n",
       "      <th>3</th>\n",
       "      <td>came minut get haircut open saturday accord ho...</td>\n",
       "      <td>Negative</td>\n",
       "      <td>1</td>\n",
       "    </tr>\n",
       "    <tr>\n",
       "      <th>4</th>\n",
       "      <td>great haircut fuss muss ask layer v shape back...</td>\n",
       "      <td>Positive</td>\n",
       "      <td>0</td>\n",
       "    </tr>\n",
       "  </tbody>\n",
       "</table>\n",
       "</div>"
      ],
      "text/plain": [
       "                                   Hair Salon Review   Ratings  category_id\n",
       "0  one best barbershop ive great price honest cou...  Positive            0\n",
       "1  took son haircut barber great exact want clean...  Positive            0\n",
       "2  walk said hi barber courtesi say hi back busi ...  Negative            1\n",
       "3  came minut get haircut open saturday accord ho...  Negative            1\n",
       "4  great haircut fuss muss ask layer v shape back...  Positive            0"
      ]
     },
     "execution_count": 21,
     "metadata": {},
     "output_type": "execute_result"
    }
   ],
   "source": [
    "hair_saln_df.head(5)"
   ]
  },
  {
   "cell_type": "code",
   "execution_count": 22,
   "metadata": {},
   "outputs": [
    {
     "data": {
      "text/html": [
       "<div>\n",
       "<style scoped>\n",
       "    .dataframe tbody tr th:only-of-type {\n",
       "        vertical-align: middle;\n",
       "    }\n",
       "\n",
       "    .dataframe tbody tr th {\n",
       "        vertical-align: top;\n",
       "    }\n",
       "\n",
       "    .dataframe thead th {\n",
       "        text-align: right;\n",
       "    }\n",
       "</style>\n",
       "<table border=\"1\" class=\"dataframe\">\n",
       "  <thead>\n",
       "    <tr style=\"text-align: right;\">\n",
       "      <th></th>\n",
       "      <th>Hotel Review</th>\n",
       "      <th>Ratings</th>\n",
       "      <th>category_id</th>\n",
       "    </tr>\n",
       "  </thead>\n",
       "  <tbody>\n",
       "    <tr>\n",
       "      <th>0</th>\n",
       "      <td>melissa took us tour asia space hour definit k...</td>\n",
       "      <td>Positive</td>\n",
       "      <td>0</td>\n",
       "    </tr>\n",
       "    <tr>\n",
       "      <th>1</th>\n",
       "      <td>group seven us visit montreal week look tour w...</td>\n",
       "      <td>Positive</td>\n",
       "      <td>0</td>\n",
       "    </tr>\n",
       "    <tr>\n",
       "      <th>2</th>\n",
       "      <td>melissa gem fianc found tour viator check trip...</td>\n",
       "      <td>Positive</td>\n",
       "      <td>1</td>\n",
       "    </tr>\n",
       "    <tr>\n",
       "      <th>3</th>\n",
       "      <td>perfect day montreal melissa outfit us bike de...</td>\n",
       "      <td>Positive</td>\n",
       "      <td>1</td>\n",
       "    </tr>\n",
       "    <tr>\n",
       "      <th>4</th>\n",
       "      <td>realli great food truck tour melissa montreal ...</td>\n",
       "      <td>Positive</td>\n",
       "      <td>0</td>\n",
       "    </tr>\n",
       "  </tbody>\n",
       "</table>\n",
       "</div>"
      ],
      "text/plain": [
       "                                        Hotel Review   Ratings  category_id\n",
       "0  melissa took us tour asia space hour definit k...  Positive            0\n",
       "1  group seven us visit montreal week look tour w...  Positive            0\n",
       "2  melissa gem fianc found tour viator check trip...  Positive            1\n",
       "3  perfect day montreal melissa outfit us bike de...  Positive            1\n",
       "4  realli great food truck tour melissa montreal ...  Positive            0"
      ]
     },
     "execution_count": 22,
     "metadata": {},
     "output_type": "execute_result"
    }
   ],
   "source": [
    "hotel_df.head(5)"
   ]
  },
  {
   "cell_type": "code",
   "execution_count": 23,
   "metadata": {},
   "outputs": [
    {
     "data": {
      "text/plain": [
       "{0: 'Positive', 1: 'Negative'}"
      ]
     },
     "execution_count": 23,
     "metadata": {},
     "output_type": "execute_result"
    }
   ],
   "source": [
    "# Creating dictionaries\n",
    "category_id_df = gym_df[['Ratings', 'category_id']].drop_duplicates().sort_values('category_id')\n",
    "category_to_id = dict(category_id_df.values)\n",
    "id_to_category = dict(category_id_df[['category_id', 'Ratings']].values)\n",
    "id_to_category"
   ]
  },
  {
   "cell_type": "markdown",
   "metadata": {},
   "source": [
    "### Task2.1 For Gym category dataset\n",
    "#### a: Apply appropriate preprocessing steps to create a numeric representation of the data, suitable for classification."
   ]
  },
  {
   "cell_type": "code",
   "execution_count": 24,
   "metadata": {},
   "outputs": [],
   "source": [
    "#Preprocessing step to create a numeric representation of the data using TfidfVectorizer\n",
    "\n",
    "vectorizer = TfidfVectorizer(min_df=5, ngram_range=(1, 2), stop_words='english')\n",
    "\n",
    "review_feature = vectorizer.fit_transform(gym_df['Gym Review'])\n",
    "\n",
    "rating_label = gym_df.category_id\n"
   ]
  },
  {
   "cell_type": "markdown",
   "metadata": {},
   "source": [
    "#### b: Building classification model to distinguish between positive and negative reviews"
   ]
  },
  {
   "cell_type": "code",
   "execution_count": 25,
   "metadata": {},
   "outputs": [],
   "source": [
    "#Category: Gym\n",
    "\n",
    "# Split the data into a training set, a vaidation set, and a test set\n",
    "X_train_plus_valid, X_test, y_train_plus_valid, y_test \\\n",
    "    = train_test_split(review_feature, rating_label, random_state=123,\\\n",
    "                                    train_size = 0.7)\n",
    "\n",
    "X_train, X_valid, y_train, y_valid \\\n",
    "    = train_test_split(X_train_plus_valid, \\\n",
    "                                        y_train_plus_valid, random_state=123, \\\n",
    "                                        train_size = 0.5/0.7)\n",
    "\n",
    "\n",
    "# LogisticRegression Classifier\n",
    "clf = LogisticRegression(random_state=0,class_weight='balanced').fit(X_train, y_train) #fitting gym training set"
   ]
  },
  {
   "cell_type": "markdown",
   "metadata": {},
   "source": [
    "#### c.  Test the predictions of the classification model using an appropriate evaluation strategy."
   ]
  },
  {
   "cell_type": "code",
   "execution_count": 26,
   "metadata": {},
   "outputs": [
    {
     "name": "stdout",
     "output_type": "stream",
     "text": [
      "Accuracy: 0.885\n",
      "Cross Validation Experiment scores 0.89\n"
     ]
    }
   ],
   "source": [
    "y_pred = clf.predict(X_valid) #predicting validation set whether it is positive or negative review\n",
    "accuracy = accuracy_score(y_valid, y_pred)\n",
    "print(\"Accuracy: \" +  str(accuracy))\n",
    "\n",
    "# Cross validation using gym dataset\n",
    "scores = cross_val_score(clf, vectorizer.fit_transform(gym_df['Gym Review']),rating_label , cv=10,n_jobs=-1,scoring='accuracy')\n",
    "print('Cross Validation Experiment scores', scores.mean())"
   ]
  },
  {
   "cell_type": "markdown",
   "metadata": {},
   "source": [
    " This model is giving 88% accuracy on unseen data of gym and it's cross validation score is also high i.e. 89%\n",
    " We can say that this model can predict the reviews 88% accurately."
   ]
  },
  {
   "cell_type": "markdown",
   "metadata": {},
   "source": [
    "### Task2.2 For Hair Salons category dataset\n",
    "#### a: Apply appropriate preprocessing steps to create a numeric representation of the data, suitable for classification."
   ]
  },
  {
   "cell_type": "code",
   "execution_count": 27,
   "metadata": {},
   "outputs": [],
   "source": [
    "#Preprocessing step to create a numeric representation of the data using TfidfVectorizer\n",
    "\n",
    "vectorizer = TfidfVectorizer(min_df=5, ngram_range=(1, 2), stop_words='english')\n",
    "\n",
    "review_feature = vectorizer.fit_transform(hair_saln_df['Hair Salon Review'])\n",
    "\n",
    "rating_label = hair_saln_df.category_id"
   ]
  },
  {
   "cell_type": "markdown",
   "metadata": {},
   "source": [
    "#### b: Building classification model to distinguish between positive and negative reviews"
   ]
  },
  {
   "cell_type": "code",
   "execution_count": 28,
   "metadata": {},
   "outputs": [],
   "source": [
    "#Category: Hair and Salons \n",
    "\n",
    "# Split the data into a training set, a vaidation set, and a test set\n",
    "X_train_plus_valid, X_test, y_train_plus_valid, y_test \\\n",
    "    = train_test_split(review_feature, rating_label, random_state=123,\\\n",
    "                                    train_size = 0.7)\n",
    "\n",
    "X_train, X_valid, y_train, y_valid \\\n",
    "    = train_test_split(X_train_plus_valid, \\\n",
    "                                        y_train_plus_valid, random_state=123, \\\n",
    "                                        train_size = 0.5/0.7)\n",
    "\n",
    "\n",
    "# LogisticRegression Classifier\n",
    "clf = LogisticRegression(random_state=0,class_weight='balanced').fit(X_train, y_train) #fitting hair salon training set"
   ]
  },
  {
   "cell_type": "markdown",
   "metadata": {},
   "source": [
    "#### c. Test the predictions of the classification model using an appropriate evaluation strategy."
   ]
  },
  {
   "cell_type": "code",
   "execution_count": 29,
   "metadata": {},
   "outputs": [
    {
     "name": "stdout",
     "output_type": "stream",
     "text": [
      "Accuracy: 0.92\n",
      "Cross Validation Experiment scores 0.938\n"
     ]
    }
   ],
   "source": [
    "y_pred = clf.predict(X_valid) #predicting validation set whether it is positive or negative review\n",
    "accuracy = accuracy_score(y_valid, y_pred)\n",
    "print(\"Accuracy: \" +  str(accuracy))\n",
    "\n",
    "# Cross validation using hair salon dataset\n",
    "scores = cross_val_score(clf, vectorizer.fit_transform(hair_saln_df['Hair Salon Review']),rating_label , cv=10,n_jobs=-1,scoring='accuracy')\n",
    "print('Cross Validation Experiment scores', scores.mean())"
   ]
  },
  {
   "cell_type": "markdown",
   "metadata": {},
   "source": [
    "This model perform well and it is having 92% accuracy on unseen data of hair salons. It's cross validation score is also very high i.e. 93.8%. "
   ]
  },
  {
   "cell_type": "markdown",
   "metadata": {},
   "source": [
    "### Task2.3 For Hotels category dataset"
   ]
  },
  {
   "cell_type": "markdown",
   "metadata": {},
   "source": [
    "#### a: Apply appropriate preprocessing steps to create a numeric representation of the data, suitable for classification."
   ]
  },
  {
   "cell_type": "code",
   "execution_count": 30,
   "metadata": {},
   "outputs": [],
   "source": [
    "#Preprocessing step to create a numeric representation of the data using TfidfVectorizer\n",
    "\n",
    "vectorizer = TfidfVectorizer(min_df=5, ngram_range=(1, 2), stop_words='english')\n",
    "\n",
    "review_feature = vectorizer.fit_transform(hotel_df['Hotel Review'])\n",
    "\n",
    "rating_label = hotel_df.category_id"
   ]
  },
  {
   "cell_type": "markdown",
   "metadata": {},
   "source": [
    "#### b: Building classification model to distinguish between positive and negative reviews"
   ]
  },
  {
   "cell_type": "code",
   "execution_count": 31,
   "metadata": {},
   "outputs": [],
   "source": [
    "#Category: Hotels\n",
    "\n",
    "# Split the data into a training set, a vaidation set, and a test set\n",
    "X_train_plus_valid, X_test, y_train_plus_valid, y_test \\\n",
    "    = train_test_split(review_feature, rating_label, random_state=123,\\\n",
    "                                    train_size = 0.7)\n",
    "\n",
    "X_train, X_valid, y_train, y_valid \\\n",
    "    = train_test_split(X_train_plus_valid, \\\n",
    "                                        y_train_plus_valid, random_state=123, \\\n",
    "                                        train_size = 0.5/0.7)\n",
    "\n",
    "\n",
    "# LogisticRegression Classifier\n",
    "clf = LogisticRegression(random_state=0,class_weight='balanced').fit(X_train, y_train) #fitting hotel training set"
   ]
  },
  {
   "cell_type": "markdown",
   "metadata": {},
   "source": [
    "#### c. Test the predictions of the classification model using an appropriate evaluation strategy."
   ]
  },
  {
   "cell_type": "code",
   "execution_count": 32,
   "metadata": {},
   "outputs": [
    {
     "name": "stdout",
     "output_type": "stream",
     "text": [
      "Accuracy: 0.6775\n",
      "              precision    recall  f1-score   support\n",
      "\n",
      "           0       0.79      0.80      0.79       311\n",
      "           1       0.27      0.26      0.26        89\n",
      "\n",
      "    accuracy                           0.68       400\n",
      "   macro avg       0.53      0.53      0.53       400\n",
      "weighted avg       0.67      0.68      0.68       400\n",
      "\n",
      "Cross Validation Experiment scores 0.633\n"
     ]
    }
   ],
   "source": [
    "y_pred = clf.predict(X_valid) #predicting validation set whether it is positive or negative review\n",
    "accuracy = accuracy_score(y_valid, y_pred)\n",
    "print(\"Accuracy: \" +  str(accuracy))\n",
    "\n",
    "print(metrics.classification_report(y_valid, y_pred))\n",
    "\n",
    "# Cross validation using hotel dataset\n",
    "scores = cross_val_score(clf, vectorizer.transform(hotel_df['Hotel Review']),rating_label , cv=10,n_jobs=-1,scoring='accuracy')\n",
    "print('Cross Validation Experiment scores', scores.mean())"
   ]
  },
  {
   "cell_type": "markdown",
   "metadata": {},
   "source": [
    "LogisticRegression model is giving 67.7% accuracy on unseen data of hotels and it's cross validation score is very low i.e. 63%. If we check the classification report of this model, we observed that the precision rate and recall rate of 'positive' reviews is less than 'negative' reviews. We can say that this model can predict 'negative' reivews more accurately than 'positive' reviews."
   ]
  },
  {
   "cell_type": "markdown",
   "metadata": {},
   "source": [
    "## Task 3(a): Train a classification model on the data from category 'Gym'. Evaluate its performance on data from category 'Hair Saloon' and data from category 'Hotels'"
   ]
  },
  {
   "cell_type": "code",
   "execution_count": 33,
   "metadata": {},
   "outputs": [
    {
     "name": "stdout",
     "output_type": "stream",
     "text": [
      "Performance on data from category Hair Saloon\n",
      "Accuracy: 0.8635\n",
      "              precision    recall  f1-score   support\n",
      "\n",
      "    Negative       0.63      0.94      0.75       442\n",
      "    Positive       0.98      0.84      0.91      1558\n",
      "\n",
      "    accuracy                           0.86      2000\n",
      "   macro avg       0.80      0.89      0.83      2000\n",
      "weighted avg       0.90      0.86      0.87      2000\n",
      "\n",
      "Confusion Matrix\n"
     ]
    },
    {
     "data": {
      "text/html": [
       "<div>\n",
       "<style scoped>\n",
       "    .dataframe tbody tr th:only-of-type {\n",
       "        vertical-align: middle;\n",
       "    }\n",
       "\n",
       "    .dataframe tbody tr th {\n",
       "        vertical-align: top;\n",
       "    }\n",
       "\n",
       "    .dataframe thead th {\n",
       "        text-align: right;\n",
       "    }\n",
       "</style>\n",
       "<table border=\"1\" class=\"dataframe\">\n",
       "  <thead>\n",
       "    <tr style=\"text-align: right;\">\n",
       "      <th>Predicted</th>\n",
       "      <th>Negative</th>\n",
       "      <th>Positive</th>\n",
       "      <th>All</th>\n",
       "    </tr>\n",
       "    <tr>\n",
       "      <th>True</th>\n",
       "      <th></th>\n",
       "      <th></th>\n",
       "      <th></th>\n",
       "    </tr>\n",
       "  </thead>\n",
       "  <tbody>\n",
       "    <tr>\n",
       "      <th>Negative</th>\n",
       "      <td>415</td>\n",
       "      <td>27</td>\n",
       "      <td>442</td>\n",
       "    </tr>\n",
       "    <tr>\n",
       "      <th>Positive</th>\n",
       "      <td>246</td>\n",
       "      <td>1312</td>\n",
       "      <td>1558</td>\n",
       "    </tr>\n",
       "    <tr>\n",
       "      <th>All</th>\n",
       "      <td>661</td>\n",
       "      <td>1339</td>\n",
       "      <td>2000</td>\n",
       "    </tr>\n",
       "  </tbody>\n",
       "</table>\n",
       "</div>"
      ],
      "text/plain": [
       "Predicted  Negative  Positive   All\n",
       "True                               \n",
       "Negative        415        27   442\n",
       "Positive        246      1312  1558\n",
       "All             661      1339  2000"
      ]
     },
     "execution_count": 33,
     "metadata": {},
     "output_type": "execute_result"
    }
   ],
   "source": [
    "model1 = LogisticRegression(random_state=0,class_weight='balanced') # LogisticRegression Classifier\n",
    "\n",
    "X_train, X_test, y_train, y_test = train_test_split(gym_df['Gym Review'], gym_df['Ratings'], random_state = 0)\n",
    "count_vect = CountVectorizer()\n",
    "X_train_counts = count_vect.fit_transform(X_train)\n",
    "tfidf_transformer = TfidfTransformer()\n",
    "X_train_tfidf = tfidf_transformer.fit_transform(X_train_counts)\n",
    "clf = model1.fit(X_train_tfidf, y_train)\n",
    "\n",
    "\n",
    "# Evaluating performance on hair salon dataset\n",
    "y_pred = model1.predict(count_vect.transform(hair_saln_df['Hair Salon Review']))\n",
    "print('Performance on data from category Hair Saloon')\n",
    "accuracy1 = metrics.accuracy_score(hair_saln_df['Ratings'], y_pred)\n",
    "print(\"Accuracy: \" +  str(accuracy1))\n",
    "\n",
    "print(metrics.classification_report(hair_saln_df['Ratings'], y_pred))\n",
    "\n",
    "# Print confusion matrix\n",
    "print(\"Confusion Matrix\")\n",
    "pd.crosstab(hair_saln_df['Ratings'], y_pred, rownames=['True'], colnames=['Predicted'], margins=True)"
   ]
  },
  {
   "cell_type": "markdown",
   "metadata": {},
   "source": [
    "From the above confusion matrix and classification report, we can say that trained LogisticRegression model on 'Gym' dataset classified 'Hair salons reviews' and predicted the ratings which is having more precision of \"Positive\" reviews (98%) than precision of \"Negative\" reviews (63%). We can say that model is predicting positive reviews more accurately than negative reviews."
   ]
  },
  {
   "cell_type": "code",
   "execution_count": 34,
   "metadata": {},
   "outputs": [
    {
     "name": "stdout",
     "output_type": "stream",
     "text": [
      "Performance on data from category Hotel\n",
      "Accuracy: 0.819\n",
      "              precision    recall  f1-score   support\n",
      "\n",
      "    Negative       0.72      0.92      0.81       824\n",
      "    Positive       0.93      0.75      0.83      1176\n",
      "\n",
      "    accuracy                           0.82      2000\n",
      "   macro avg       0.82      0.83      0.82      2000\n",
      "weighted avg       0.84      0.82      0.82      2000\n",
      "\n",
      "Confusion Matrix\n"
     ]
    },
    {
     "data": {
      "text/html": [
       "<div>\n",
       "<style scoped>\n",
       "    .dataframe tbody tr th:only-of-type {\n",
       "        vertical-align: middle;\n",
       "    }\n",
       "\n",
       "    .dataframe tbody tr th {\n",
       "        vertical-align: top;\n",
       "    }\n",
       "\n",
       "    .dataframe thead th {\n",
       "        text-align: right;\n",
       "    }\n",
       "</style>\n",
       "<table border=\"1\" class=\"dataframe\">\n",
       "  <thead>\n",
       "    <tr style=\"text-align: right;\">\n",
       "      <th>Predicted</th>\n",
       "      <th>Negative</th>\n",
       "      <th>Positive</th>\n",
       "      <th>All</th>\n",
       "    </tr>\n",
       "    <tr>\n",
       "      <th>True</th>\n",
       "      <th></th>\n",
       "      <th></th>\n",
       "      <th></th>\n",
       "    </tr>\n",
       "  </thead>\n",
       "  <tbody>\n",
       "    <tr>\n",
       "      <th>Negative</th>\n",
       "      <td>759</td>\n",
       "      <td>65</td>\n",
       "      <td>824</td>\n",
       "    </tr>\n",
       "    <tr>\n",
       "      <th>Positive</th>\n",
       "      <td>297</td>\n",
       "      <td>879</td>\n",
       "      <td>1176</td>\n",
       "    </tr>\n",
       "    <tr>\n",
       "      <th>All</th>\n",
       "      <td>1056</td>\n",
       "      <td>944</td>\n",
       "      <td>2000</td>\n",
       "    </tr>\n",
       "  </tbody>\n",
       "</table>\n",
       "</div>"
      ],
      "text/plain": [
       "Predicted  Negative  Positive   All\n",
       "True                               \n",
       "Negative        759        65   824\n",
       "Positive        297       879  1176\n",
       "All            1056       944  2000"
      ]
     },
     "execution_count": 34,
     "metadata": {},
     "output_type": "execute_result"
    }
   ],
   "source": [
    "# Evaluating performance on hotel dataset\n",
    "\n",
    "y_pred = model1.predict(count_vect.transform(hotel_df['Hotel Review']))\n",
    "print('Performance on data from category Hotel')\n",
    "accuracy2 = metrics.accuracy_score(hotel_df['Ratings'], y_pred) \n",
    "print(\"Accuracy: \" +  str(accuracy2))\n",
    "\n",
    "print(metrics.classification_report(hotel_df['Ratings'], y_pred))\n",
    "\n",
    "# Print confusion matrix\n",
    "print(\"Confusion Matrix\")\n",
    "pd.crosstab(hotel_df['Ratings'], y_pred, rownames=['True'], colnames=['Predicted'], margins=True)"
   ]
  },
  {
   "cell_type": "markdown",
   "metadata": {},
   "source": [
    "From the above confusion matrix and classification report, we can say that trained LogisticRegression model on 'Gym' dataset classified 'Hotel reviews' and predicted the ratings with 81.9% accuracy. It can also predict 'negative and 'positive' review accurately because it's precision and recall rates are more than 70% for both the reviews."
   ]
  },
  {
   "cell_type": "markdown",
   "metadata": {},
   "source": [
    "### Task 3(b): Train a classification model on the data from category 'Hair Salons'. Evaluate its performance on data from category 'Gym' and data from category 'Hotels'"
   ]
  },
  {
   "cell_type": "code",
   "execution_count": 35,
   "metadata": {},
   "outputs": [
    {
     "name": "stdout",
     "output_type": "stream",
     "text": [
      "Performance on data from category GYM\n",
      "Accuracy: 0.8535\n",
      "              precision    recall  f1-score   support\n",
      "\n",
      "    Negative       0.75      0.88      0.81       701\n",
      "    Positive       0.93      0.84      0.88      1299\n",
      "\n",
      "    accuracy                           0.85      2000\n",
      "   macro avg       0.84      0.86      0.84      2000\n",
      "weighted avg       0.86      0.85      0.86      2000\n",
      "\n",
      "Confusion Matrix\n"
     ]
    },
    {
     "data": {
      "text/html": [
       "<div>\n",
       "<style scoped>\n",
       "    .dataframe tbody tr th:only-of-type {\n",
       "        vertical-align: middle;\n",
       "    }\n",
       "\n",
       "    .dataframe tbody tr th {\n",
       "        vertical-align: top;\n",
       "    }\n",
       "\n",
       "    .dataframe thead th {\n",
       "        text-align: right;\n",
       "    }\n",
       "</style>\n",
       "<table border=\"1\" class=\"dataframe\">\n",
       "  <thead>\n",
       "    <tr style=\"text-align: right;\">\n",
       "      <th>Predicted</th>\n",
       "      <th>Negative</th>\n",
       "      <th>Positive</th>\n",
       "      <th>All</th>\n",
       "    </tr>\n",
       "    <tr>\n",
       "      <th>True</th>\n",
       "      <th></th>\n",
       "      <th></th>\n",
       "      <th></th>\n",
       "    </tr>\n",
       "  </thead>\n",
       "  <tbody>\n",
       "    <tr>\n",
       "      <th>Negative</th>\n",
       "      <td>617</td>\n",
       "      <td>84</td>\n",
       "      <td>701</td>\n",
       "    </tr>\n",
       "    <tr>\n",
       "      <th>Positive</th>\n",
       "      <td>209</td>\n",
       "      <td>1090</td>\n",
       "      <td>1299</td>\n",
       "    </tr>\n",
       "    <tr>\n",
       "      <th>All</th>\n",
       "      <td>826</td>\n",
       "      <td>1174</td>\n",
       "      <td>2000</td>\n",
       "    </tr>\n",
       "  </tbody>\n",
       "</table>\n",
       "</div>"
      ],
      "text/plain": [
       "Predicted  Negative  Positive   All\n",
       "True                               \n",
       "Negative        617        84   701\n",
       "Positive        209      1090  1299\n",
       "All             826      1174  2000"
      ]
     },
     "execution_count": 35,
     "metadata": {},
     "output_type": "execute_result"
    }
   ],
   "source": [
    "model2 = LogisticRegression(random_state=0,class_weight='balanced') # LogisticRegression Classifier\n",
    "\n",
    "X_train, X_test, y_train, y_test = train_test_split(hair_saln_df['Hair Salon Review'], hair_saln_df['Ratings'], random_state = 0)\n",
    "count_vect = CountVectorizer()\n",
    "X_train_counts = count_vect.fit_transform(X_train)\n",
    "tfidf_transformer = TfidfTransformer()\n",
    "X_train_tfidf = tfidf_transformer.fit_transform(X_train_counts)\n",
    "clf = model2.fit(X_train_tfidf, y_train)\n",
    "\n",
    "# Evaluating performance on gym dataset\n",
    "\n",
    "y_pred = model2.predict(count_vect.transform(gym_df['Gym Review']))\n",
    "print('Performance on data from category GYM')\n",
    "accuracy1 = metrics.accuracy_score(gym_df['Ratings'], y_pred)\n",
    "print(\"Accuracy: \" +  str(accuracy1))\n",
    "\n",
    "print(metrics.classification_report(gym_df['Ratings'], y_pred))\n",
    "\n",
    "# Print confusion matrix\n",
    "print(\"Confusion Matrix\")\n",
    "pd.crosstab(gym_df['Ratings'], y_pred, rownames=['True'], colnames=['Predicted'], margins=True)"
   ]
  },
  {
   "cell_type": "markdown",
   "metadata": {},
   "source": [
    "From the above confusion matrix and classification report, we can say that trained LogisticRegression model on 'Hair Salon' dataset classified 'Gym reviews' and predicted the ratings with 85.3% accurately. "
   ]
  },
  {
   "cell_type": "code",
   "execution_count": 36,
   "metadata": {},
   "outputs": [
    {
     "name": "stdout",
     "output_type": "stream",
     "text": [
      "Performance on data from category Hotel\n",
      "Accuracy: 0.8065\n",
      "              precision    recall  f1-score   support\n",
      "\n",
      "    Negative       0.70      0.92      0.80       824\n",
      "    Positive       0.93      0.73      0.82      1176\n",
      "\n",
      "    accuracy                           0.81      2000\n",
      "   macro avg       0.82      0.82      0.81      2000\n",
      "weighted avg       0.84      0.81      0.81      2000\n",
      "\n",
      "Confusion Matrix\n"
     ]
    },
    {
     "data": {
      "text/html": [
       "<div>\n",
       "<style scoped>\n",
       "    .dataframe tbody tr th:only-of-type {\n",
       "        vertical-align: middle;\n",
       "    }\n",
       "\n",
       "    .dataframe tbody tr th {\n",
       "        vertical-align: top;\n",
       "    }\n",
       "\n",
       "    .dataframe thead th {\n",
       "        text-align: right;\n",
       "    }\n",
       "</style>\n",
       "<table border=\"1\" class=\"dataframe\">\n",
       "  <thead>\n",
       "    <tr style=\"text-align: right;\">\n",
       "      <th>Predicted</th>\n",
       "      <th>Negative</th>\n",
       "      <th>Positive</th>\n",
       "      <th>All</th>\n",
       "    </tr>\n",
       "    <tr>\n",
       "      <th>True</th>\n",
       "      <th></th>\n",
       "      <th></th>\n",
       "      <th></th>\n",
       "    </tr>\n",
       "  </thead>\n",
       "  <tbody>\n",
       "    <tr>\n",
       "      <th>Negative</th>\n",
       "      <td>760</td>\n",
       "      <td>64</td>\n",
       "      <td>824</td>\n",
       "    </tr>\n",
       "    <tr>\n",
       "      <th>Positive</th>\n",
       "      <td>323</td>\n",
       "      <td>853</td>\n",
       "      <td>1176</td>\n",
       "    </tr>\n",
       "    <tr>\n",
       "      <th>All</th>\n",
       "      <td>1083</td>\n",
       "      <td>917</td>\n",
       "      <td>2000</td>\n",
       "    </tr>\n",
       "  </tbody>\n",
       "</table>\n",
       "</div>"
      ],
      "text/plain": [
       "Predicted  Negative  Positive   All\n",
       "True                               \n",
       "Negative        760        64   824\n",
       "Positive        323       853  1176\n",
       "All            1083       917  2000"
      ]
     },
     "execution_count": 36,
     "metadata": {},
     "output_type": "execute_result"
    }
   ],
   "source": [
    "# Evaluating performance on hotel dataset\n",
    "\n",
    "y_pred = model2.predict(count_vect.transform(hotel_df['Hotel Review']))\n",
    "print('Performance on data from category Hotel')\n",
    "accuracy2 = metrics.accuracy_score(hotel_df['Ratings'], y_pred) \n",
    "print(\"Accuracy: \" +  str(accuracy2))\n",
    "\n",
    "print(metrics.classification_report(hotel_df['Ratings'], y_pred))\n",
    "\n",
    "# Print confusion matrix\n",
    "print(\"Confusion Matrix\")\n",
    "pd.crosstab(hotel_df['Ratings'], y_pred, rownames=['True'], colnames=['Predicted'], margins=True)"
   ]
  },
  {
   "cell_type": "markdown",
   "metadata": {},
   "source": [
    "From the above confusion matrix and classification report, we can say that trained LogisticRegression model on 'Hair Salon' dataset classified 'Hotel reviews' and predicted the ratings with 80.65% accurately. It is having False negative rate greater than False positive rate."
   ]
  },
  {
   "cell_type": "markdown",
   "metadata": {},
   "source": [
    "### Task 3(c): Train a classification model on the data from category 'Hotels'. Evaluate its performance on data from category 'Gym' and data from category  'Hair Saloon'"
   ]
  },
  {
   "cell_type": "code",
   "execution_count": 37,
   "metadata": {},
   "outputs": [
    {
     "name": "stdout",
     "output_type": "stream",
     "text": [
      "Performance on data from category GYM\n",
      "Accuracy: 0.8695\n",
      "              precision    recall  f1-score   support\n",
      "\n",
      "    Negative       0.80      0.84      0.82       701\n",
      "    Positive       0.91      0.88      0.90      1299\n",
      "\n",
      "    accuracy                           0.87      2000\n",
      "   macro avg       0.85      0.86      0.86      2000\n",
      "weighted avg       0.87      0.87      0.87      2000\n",
      "\n",
      "Confusion Matrix\n"
     ]
    },
    {
     "data": {
      "text/html": [
       "<div>\n",
       "<style scoped>\n",
       "    .dataframe tbody tr th:only-of-type {\n",
       "        vertical-align: middle;\n",
       "    }\n",
       "\n",
       "    .dataframe tbody tr th {\n",
       "        vertical-align: top;\n",
       "    }\n",
       "\n",
       "    .dataframe thead th {\n",
       "        text-align: right;\n",
       "    }\n",
       "</style>\n",
       "<table border=\"1\" class=\"dataframe\">\n",
       "  <thead>\n",
       "    <tr style=\"text-align: right;\">\n",
       "      <th>Predicted</th>\n",
       "      <th>Negative</th>\n",
       "      <th>Positive</th>\n",
       "      <th>All</th>\n",
       "    </tr>\n",
       "    <tr>\n",
       "      <th>True</th>\n",
       "      <th></th>\n",
       "      <th></th>\n",
       "      <th></th>\n",
       "    </tr>\n",
       "  </thead>\n",
       "  <tbody>\n",
       "    <tr>\n",
       "      <th>Negative</th>\n",
       "      <td>592</td>\n",
       "      <td>109</td>\n",
       "      <td>701</td>\n",
       "    </tr>\n",
       "    <tr>\n",
       "      <th>Positive</th>\n",
       "      <td>152</td>\n",
       "      <td>1147</td>\n",
       "      <td>1299</td>\n",
       "    </tr>\n",
       "    <tr>\n",
       "      <th>All</th>\n",
       "      <td>744</td>\n",
       "      <td>1256</td>\n",
       "      <td>2000</td>\n",
       "    </tr>\n",
       "  </tbody>\n",
       "</table>\n",
       "</div>"
      ],
      "text/plain": [
       "Predicted  Negative  Positive   All\n",
       "True                               \n",
       "Negative        592       109   701\n",
       "Positive        152      1147  1299\n",
       "All             744      1256  2000"
      ]
     },
     "execution_count": 37,
     "metadata": {},
     "output_type": "execute_result"
    }
   ],
   "source": [
    "model3 = LogisticRegression(random_state=0,class_weight='balanced') # LogisticRegression Classifier\n",
    "\n",
    "X_train, X_test, y_train, y_test = train_test_split(hotel_df['Hotel Review'], hotel_df['Ratings'], random_state = 0)\n",
    "count_vect = CountVectorizer()\n",
    "X_train_counts = count_vect.fit_transform(X_train)\n",
    "tfidf_transformer = TfidfTransformer()\n",
    "X_train_tfidf = tfidf_transformer.fit_transform(X_train_counts)\n",
    "clf = model3.fit(X_train_tfidf, y_train)\n",
    "\n",
    "\n",
    "# Evaluating performance on gym dataset\n",
    "\n",
    "y_pred = model3.predict(count_vect.transform(gym_df['Gym Review']))\n",
    "print('Performance on data from category GYM')\n",
    "accuracy1 = metrics.accuracy_score(gym_df['Ratings'], y_pred) \n",
    "print(\"Accuracy: \" +  str(accuracy1))\n",
    "\n",
    "print(metrics.classification_report(gym_df['Ratings'], y_pred))\n",
    "\n",
    "# Print confusion matrix\n",
    "print(\"Confusion Matrix\")\n",
    "pd.crosstab(gym_df['Ratings'], y_pred, rownames=['True'], colnames=['Predicted'], margins=True)"
   ]
  },
  {
   "cell_type": "markdown",
   "metadata": {},
   "source": [
    "From the above confusion matrix and classification report, we can say that trained LogisticRegression model on 'Hotel' dataset classified 'Gym reviews' and predicted the ratings with 86.7% accurately. It is having precision rate for negative and positive reviews are 80% and 91% respectively."
   ]
  },
  {
   "cell_type": "code",
   "execution_count": 38,
   "metadata": {},
   "outputs": [
    {
     "name": "stdout",
     "output_type": "stream",
     "text": [
      "Performance on data from category Hair Salon\n",
      "Accuracy: 0.904\n",
      "              precision    recall  f1-score   support\n",
      "\n",
      "    Negative       0.73      0.91      0.81       442\n",
      "    Positive       0.97      0.90      0.94      1558\n",
      "\n",
      "    accuracy                           0.90      2000\n",
      "   macro avg       0.85      0.91      0.87      2000\n",
      "weighted avg       0.92      0.90      0.91      2000\n",
      "\n",
      "Confusion Matrix\n"
     ]
    },
    {
     "data": {
      "text/html": [
       "<div>\n",
       "<style scoped>\n",
       "    .dataframe tbody tr th:only-of-type {\n",
       "        vertical-align: middle;\n",
       "    }\n",
       "\n",
       "    .dataframe tbody tr th {\n",
       "        vertical-align: top;\n",
       "    }\n",
       "\n",
       "    .dataframe thead th {\n",
       "        text-align: right;\n",
       "    }\n",
       "</style>\n",
       "<table border=\"1\" class=\"dataframe\">\n",
       "  <thead>\n",
       "    <tr style=\"text-align: right;\">\n",
       "      <th>Predicted</th>\n",
       "      <th>Negative</th>\n",
       "      <th>Positive</th>\n",
       "      <th>All</th>\n",
       "    </tr>\n",
       "    <tr>\n",
       "      <th>True</th>\n",
       "      <th></th>\n",
       "      <th></th>\n",
       "      <th></th>\n",
       "    </tr>\n",
       "  </thead>\n",
       "  <tbody>\n",
       "    <tr>\n",
       "      <th>Negative</th>\n",
       "      <td>401</td>\n",
       "      <td>41</td>\n",
       "      <td>442</td>\n",
       "    </tr>\n",
       "    <tr>\n",
       "      <th>Positive</th>\n",
       "      <td>151</td>\n",
       "      <td>1407</td>\n",
       "      <td>1558</td>\n",
       "    </tr>\n",
       "    <tr>\n",
       "      <th>All</th>\n",
       "      <td>552</td>\n",
       "      <td>1448</td>\n",
       "      <td>2000</td>\n",
       "    </tr>\n",
       "  </tbody>\n",
       "</table>\n",
       "</div>"
      ],
      "text/plain": [
       "Predicted  Negative  Positive   All\n",
       "True                               \n",
       "Negative        401        41   442\n",
       "Positive        151      1407  1558\n",
       "All             552      1448  2000"
      ]
     },
     "execution_count": 38,
     "metadata": {},
     "output_type": "execute_result"
    }
   ],
   "source": [
    "# Evaluating performance on hair salon dataset\n",
    "\n",
    "y_pred = model3.predict(count_vect.transform(hair_saln_df['Hair Salon Review']))\n",
    "print('Performance on data from category Hair Salon')\n",
    "accuracy2 = metrics.accuracy_score(hair_saln_df['Ratings'], y_pred)\n",
    "print(\"Accuracy: \" +  str(accuracy2))\n",
    "\n",
    "print(metrics.classification_report(hair_saln_df['Ratings'], y_pred))\n",
    "\n",
    "# Print confusion matrix\n",
    "print(\"Confusion Matrix\")\n",
    "pd.crosstab(hair_saln_df['Ratings'], y_pred, rownames=['True'], colnames=['Predicted'], margins=True)"
   ]
  },
  {
   "cell_type": "markdown",
   "metadata": {},
   "source": [
    "From the above confusion matrix and classification report, we can say that trained LogisticRegression model on 'Hotel' dataset classified 'Hair Salons reviews' and predicted the ratings with 90.6% accuracy. It is having good precision rate for positive and negative reviews i.e. 97% and 73% respectively."
   ]
  },
  {
   "cell_type": "markdown",
   "metadata": {},
   "source": [
    "### Conclusion:\n",
    "- I would say that logistic Regression is one of the best model for text classification. It use statistical method for predicting binary classes. It computes the probability of an event occurrence whether the review is positive or negative. I have given class_weights as 'balanced' which will balance the imbalance classes in the dataset.\n",
    "- In task 2, I have used cross validation to evaluate LogisticRegression model for all three category datasets. \n",
    "- In task 3, LogisticRegression classifier performed well when used on an unseen data of each of the three category datasets (Gym, Hair salons, Hotels). It is having the highest classification rate. It is also avoiding the problem of overfitting and underfitting well. And, it is giving more than 75% of precision and recall rate of 'positive' and 'negative' reviews which proved that LogisticRegression model will predict the reviews accurately for these three category datasets."
   ]
  }
 ],
 "metadata": {
  "kernelspec": {
   "display_name": "Python 3",
   "language": "python",
   "name": "python3"
  },
  "language_info": {
   "codemirror_mode": {
    "name": "ipython",
    "version": 3
   },
   "file_extension": ".py",
   "mimetype": "text/x-python",
   "name": "python",
   "nbconvert_exporter": "python",
   "pygments_lexer": "ipython3",
   "version": "3.7.3"
  }
 },
 "nbformat": 4,
 "nbformat_minor": 2
}
