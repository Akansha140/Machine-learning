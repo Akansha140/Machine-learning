{
 "cells": [
  {
   "cell_type": "markdown",
   "metadata": {},
   "source": [
    "# COMP47590: Advanced Machine Learning\n",
    "# Assignment 1: Multi-label Classification"
   ]
  },
  {
   "cell_type": "markdown",
   "metadata": {},
   "source": [
    "## Import Packages Etc"
   ]
  },
  {
   "cell_type": "code",
   "execution_count": 1,
   "metadata": {},
   "outputs": [
    {
     "name": "stderr",
     "output_type": "stream",
     "text": [
      "Using TensorFlow backend.\n"
     ]
    }
   ],
   "source": [
    "import pandas as pd\n",
    "import numpy as np\n",
    "import matplotlib.pyplot as plt\n",
    "import math\n",
    "import random\n",
    "\n",
    "# import other useful packages\n",
    "from sklearn.model_selection import GridSearchCV\n",
    "from sklearn.model_selection import cross_val_score\n",
    "from sklearn.model_selection import train_test_split\n",
    "from sklearn.base import BaseEstimator, ClassifierMixin\n",
    "from sklearn.utils.validation import check_X_y, check_array, check_is_fitted\n",
    "from sklearn.linear_model import LogisticRegression\n",
    "from sklearn.tree import DecisionTreeClassifier\n",
    "from imblearn.under_sampling import NearMiss\n",
    "from sklearn.metrics import hamming_loss\n",
    "from sklearn.metrics import f1_score\n",
    "from sklearn.base import clone\n",
    "from sklearn.neighbors import KNeighborsClassifier\n",
    "from sklearn.naive_bayes import MultinomialNB, GaussianNB\n",
    "from sklearn import metrics\n"
   ]
  },
  {
   "cell_type": "markdown",
   "metadata": {},
   "source": [
    "## Task 0: Load the Yeast Dataset"
   ]
  },
  {
   "cell_type": "code",
   "execution_count": 2,
   "metadata": {},
   "outputs": [],
   "source": [
    "# Write your code here\n",
    "dataset = pd.read_csv('Yeast.csv')\n",
    "X = dataset[dataset.columns[:103]]\n",
    "Y = dataset.loc[:,\"Class1\":] \n",
    "\n"
   ]
  },
  {
   "cell_type": "markdown",
   "metadata": {},
   "source": [
    "## Task 1: Implement the Binary Relevance Algorithm"
   ]
  },
  {
   "cell_type": "code",
   "execution_count": 3,
   "metadata": {},
   "outputs": [],
   "source": [
    "# Write your code here\n",
    "# Create a new classifier which is based on the sckit-learn BaseEstimator and ClassifierMixin classes\n",
    "class BinaryRelevanceClassifier(BaseEstimator, ClassifierMixin):\n",
    "    \"\"\"A Binary Relevance classifier- The simplest approach to multi-label classification.\n",
    "    - Training: For each class label implement individual binary base classifiers. This uses a one-vs-all approach to \n",
    "                generate the training sets for each base classifier.\n",
    "    - Prediction: When a new prediction needs to be made compare the descriptive feature values of the new query instance to each label and return the target feature that belongs to the classes.\n",
    "   \n",
    "   Attributes\n",
    "    ----------\n",
    "    classes_ : array of shape = [n_classes] \n",
    "        The classes labels (single output problem).   \n",
    "      \n",
    "    Notes\n",
    "    -----\n",
    "    \n",
    "\n",
    "    See also\n",
    "    --------\n",
    "    \n",
    "    ----------\n",
    "    \n",
    "    Examples\n",
    "    --------\n",
    "    >>> from sklearn.datasets import load_iris\n",
    "    >>> from sklearn.model_selection import cross_val_score\n",
    "    >>> clf = BinaryRelevanceClassifier()\n",
    "    >>> iris = load_iris()\n",
    "    >>> cross_val_score(clf, iris.data, iris.target, cv=10)\n",
    "\n",
    "    \"\"\"\n",
    "    \n",
    "    # Constructor for the classifier object\n",
    "    def __init__(self, classifier=None):\n",
    "        self.classifier=classifier\n",
    "        \n",
    "    \n",
    "    # The fit function to train a classifier\n",
    "    def fit(self, X, y):\n",
    "        \"\"\"Fits classifier to training data\n",
    " \n",
    "        Sets `self.partition_` (list of single item lists) and `self.model_count_` (equal to number of labels).\n",
    "\n",
    "\n",
    "        Parameters\n",
    "        ----------\n",
    "        X : `array_like`, :class:`numpy.matrix` or :mod:`scipy.sparse` matrix, shape=(n_samples, n_features)\n",
    "            input feature matrix\n",
    "        y : `array_like`, :class:`numpy.matrix` or :mod:`scipy.sparse` matrix of `{0, 1}`, shape=(n_samples, n_labels)\n",
    "            binary indicator matrix with label assignments\n",
    "\n",
    "        Returns\n",
    "        -------\n",
    "        self\n",
    "            fitted instance of self\n",
    "\n",
    "        Notes\n",
    "        -----\n",
    "        .. note :: Input matrices are converted to sparse format internally if a numpy representation is passed\n",
    "        \"\"\"\n",
    "    \n",
    "        self.model_count_ = y.shape[1]\n",
    "        self.label_count = y.shape[1]\n",
    "        self.clf = list()\n",
    "        \n",
    "     \n",
    "        for i in range(self.model_count_):\n",
    "            model_ =clone(self.classifier)\n",
    "            my_model = model_.fit(X, y.iloc[:,i])\n",
    "            self.clf.append(my_model)  \n",
    "            \n",
    "        \n",
    "        return self\n",
    "    \n",
    "    # The predict function to make a set of predictions for a set of query instances\n",
    "    def predict(self, X):\n",
    "        \"\"\"Predict labels for X\n",
    "\n",
    "        Parameters\n",
    "        ----------\n",
    "        X : `array_like`, :class:`numpy.matrix` or :mod:`scipy.sparse` matrix, shape=(n_samples, n_features)\n",
    "            input feature matrix\n",
    "\n",
    "        Returns\n",
    "        -------\n",
    "        :mod:`scipy.sparse` matrix of `{0, 1}`, shape=(n_samples, n_labels)\n",
    "            binary indicator matrix with label assignments\n",
    "        \"\"\"\n",
    "        \n",
    "        \n",
    "          # Initialise an empty list to store the predictions made\n",
    "        self.pred_multiclass = list()\n",
    "        \n",
    "         # Iterate through the query instances in the query dataset \n",
    "        for model in self.clf:\n",
    "            self.pred_multiclass.append(model.predict(X))\n",
    "     \n",
    "        return np.transpose(np.array(self.pred_multiclass))\n",
    "\n",
    "    # The predict function to make a set of predictions for a set of query instances\n",
    "    def predict_proba(self, X):\n",
    "        \"\"\"Predict probabilities of label assignments for X\n",
    "\n",
    "        Parameters\n",
    "        ----------\n",
    "        X : `array_like`, :class:`numpy.matrix` or :mod:`scipy.sparse` matrix, shape=(n_samples, n_features)\n",
    "            input feature matrix\n",
    "\n",
    "        Returns\n",
    "        -------\n",
    "        :mod:`scipy.sparse` matrix of `float in [0.0, 1.0]`, shape=(n_samples, n_labels)\n",
    "            matrix with label assignment probabilities\n",
    "        \"\"\"\n",
    "\n",
    "        result = []\n",
    "        for classifier in self.clf:\n",
    "            # the multilabel classifier should provide a (n_samples, n_labels) matrix\n",
    "            result.append(classifier.predict_proba(X)[:,0])\n",
    "               \n",
    "        return np.array(result).transpose()\n",
    "\n"
   ]
  },
  {
   "cell_type": "markdown",
   "metadata": {},
   "source": [
    "## Task 2: Implement the Binary Relevance Algorithm with Under-Sampling"
   ]
  },
  {
   "cell_type": "code",
   "execution_count": 4,
   "metadata": {},
   "outputs": [],
   "source": [
    "# Write your code here\n",
    "# Create a new classifier which is based on the sckit-learn BaseEstimator and ClassifierMixin classes\n",
    "class BinaryRelevanceClassifier(BaseEstimator, ClassifierMixin):\n",
    "    \"\"\"A Binary Relevance classifier- The simplest approach to multi-label classification using undersampling technique.\n",
    "    - Training: For each class label implement individual binary base classifiers. This uses a one-vs-all approach to \n",
    "                generate the training sets for each base classifier.\n",
    "    - Prediction: When a new prediction needs to be made compare the descriptive feature values of the new query instance to each label and return the target feature that belongs to the classes.\n",
    "    \n",
    "    Parameters\n",
    "    ----------\n",
    "   Undersampling string\n",
    "        The Undersampling that can be used, for NearMiss undersampling\n",
    "\n",
    "    Attributes\n",
    "    ----------\n",
    "    classes_ : array of shape = [n_classes] \n",
    "        The classes labels (single output problem).\n",
    "    Undersampling: string\n",
    "        The undersampling used    \n",
    "       \n",
    "    Notes\n",
    "    -----\n",
    "    \n",
    "\n",
    "    See also\n",
    "    --------\n",
    "    \n",
    "    ----------\n",
    "    \n",
    "    Examples\n",
    "    --------\n",
    "    >>> from sklearn.datasets import load_iris\n",
    "    >>> from sklearn.model_selection import cross_val_score\n",
    "    >>> clf = BinaryRelevanceClassifier()\n",
    "    >>> iris = load_iris()\n",
    "    >>> cross_val_score(clf, iris.data, iris.target, cv=10)\n",
    "\n",
    "    \"\"\"\n",
    "    \n",
    "    # Constructor for the classifier object\n",
    "    def __init__(self, classifier=None,Undersampling=None):\n",
    "        self.classifier=classifier\n",
    "        self.Undersampling=Undersampling\n",
    "        \n",
    "    \n",
    "    # The fit function to train a classifier\n",
    "    def fit(self, X, y):\n",
    "        \"\"\"Fits classifier to training data\n",
    " \n",
    "        Sets `self.partition_` (list of single item lists) and `self.model_count_` (equal to number of labels).\n",
    "\n",
    "\n",
    "        Parameters\n",
    "        ----------\n",
    "        X : `array_like`, :class:`numpy.matrix` or :mod:`scipy.sparse` matrix, shape=(n_samples, n_features)\n",
    "            input feature matrix\n",
    "        y : `array_like`, :class:`numpy.matrix` or :mod:`scipy.sparse` matrix of `{0, 1}`, shape=(n_samples, n_labels)\n",
    "            binary indicator matrix with label assignments\n",
    "\n",
    "        Returns\n",
    "        -------\n",
    "        self\n",
    "            fitted instance of self\n",
    "\n",
    "        Notes\n",
    "        -----\n",
    "        .. note :: Input matrices are converted to sparse format internally if a numpy representation is passed\n",
    "        \"\"\"\n",
    "    \n",
    "        self.model_count_ = y.shape[1]\n",
    "        self.label_count = y.shape[1]\n",
    "        self.clf = list()\n",
    "        \n",
    "        if self.Undersampling == 'undersampling':   \n",
    "            for i in range(self.model_count_):\n",
    "                undersample = NearMiss(version=1, n_neighbors=3) #Majority class examples with minimum average distance to three closest minority class examples.\n",
    "                # transform the dataset\n",
    "                X_resample, y_resample = undersample.fit_resample(X, y.iloc[:,i])\n",
    "                model_ =clone(self.classifier)\n",
    "                my_model = model_.fit(X_resample, y_resample)\n",
    "                self.clf.append(my_model) \n",
    "        \n",
    "        else:\n",
    "            \n",
    "            for i in range(self.model_count_):\n",
    "                model_ =clone(self.classifier)\n",
    "                my_model = model_.fit(X, y.iloc[:,i])\n",
    "                self.clf.append(my_model)  \n",
    "            \n",
    "        \n",
    "        return self\n",
    "    \n",
    "    # The predict function to make a set of predictions for a set of query instances\n",
    "    def predict(self, X):\n",
    "        \"\"\"Predict labels for X\n",
    "\n",
    "        Parameters\n",
    "        ----------\n",
    "        X : `array_like`, :class:`numpy.matrix` or :mod:`scipy.sparse` matrix, shape=(n_samples, n_features)\n",
    "            input feature matrix\n",
    "\n",
    "        Returns\n",
    "        -------\n",
    "        :mod:`scipy.sparse` matrix of `{0, 1}`, shape=(n_samples, n_labels)\n",
    "            binary indicator matrix with label assignments\n",
    "        \"\"\"\n",
    "        \n",
    "     \n",
    "        # Initialise an empty list to store the predictions made\n",
    "        self.pred_multiclass = list()\n",
    "        \n",
    "         # Iterate through the query instances in the query dataset \n",
    "        for model in self.clf:\n",
    "            self.pred_multiclass.append(model.predict(X))\n",
    "     \n",
    "        return np.transpose(np.array(self.pred_multiclass))\n",
    "\n",
    "    # The predict function to make a set of predictions for a set of query instances\n",
    "    def predict_proba(self, X):\n",
    "        \"\"\"Predict probabilities of label assignments for X\n",
    "\n",
    "        Parameters\n",
    "        ----------\n",
    "        X : `array_like`, :class:`numpy.matrix` or :mod:`scipy.sparse` matrix, shape=(n_samples, n_features)\n",
    "            input feature matrix\n",
    "\n",
    "        Returns\n",
    "        -------\n",
    "        :mod:`scipy.sparse` matrix of `float in [0.0, 1.0]`, shape=(n_samples, n_labels)\n",
    "            matrix with label assignment probabilities\n",
    "        \"\"\"\n",
    "\n",
    " \n",
    "        result = []\n",
    "        for classifier in self.clf:\n",
    "            # the multilabel classifier should provide a (n_samples, n_labels) matrix\n",
    "            result.append(classifier.predict_proba(X)[:,0])\n",
    "               \n",
    "        return np.array(result).transpose()\n"
   ]
  },
  {
   "cell_type": "code",
   "execution_count": 5,
   "metadata": {},
   "outputs": [
    {
     "name": "stderr",
     "output_type": "stream",
     "text": [
      "/Users/akanshakhare/anaconda3/lib/python3.7/site-packages/sklearn/linear_model/logistic.py:432: FutureWarning: Default solver will be changed to 'lbfgs' in 0.22. Specify a solver to silence this warning.\n",
      "  FutureWarning)\n",
      "/Users/akanshakhare/anaconda3/lib/python3.7/site-packages/sklearn/linear_model/logistic.py:432: FutureWarning: Default solver will be changed to 'lbfgs' in 0.22. Specify a solver to silence this warning.\n",
      "  FutureWarning)\n",
      "/Users/akanshakhare/anaconda3/lib/python3.7/site-packages/sklearn/linear_model/logistic.py:432: FutureWarning: Default solver will be changed to 'lbfgs' in 0.22. Specify a solver to silence this warning.\n",
      "  FutureWarning)\n",
      "/Users/akanshakhare/anaconda3/lib/python3.7/site-packages/sklearn/linear_model/logistic.py:432: FutureWarning: Default solver will be changed to 'lbfgs' in 0.22. Specify a solver to silence this warning.\n",
      "  FutureWarning)\n",
      "/Users/akanshakhare/anaconda3/lib/python3.7/site-packages/sklearn/linear_model/logistic.py:432: FutureWarning: Default solver will be changed to 'lbfgs' in 0.22. Specify a solver to silence this warning.\n",
      "  FutureWarning)\n",
      "/Users/akanshakhare/anaconda3/lib/python3.7/site-packages/sklearn/linear_model/logistic.py:432: FutureWarning: Default solver will be changed to 'lbfgs' in 0.22. Specify a solver to silence this warning.\n",
      "  FutureWarning)\n",
      "/Users/akanshakhare/anaconda3/lib/python3.7/site-packages/sklearn/linear_model/logistic.py:432: FutureWarning: Default solver will be changed to 'lbfgs' in 0.22. Specify a solver to silence this warning.\n",
      "  FutureWarning)\n",
      "/Users/akanshakhare/anaconda3/lib/python3.7/site-packages/sklearn/linear_model/logistic.py:432: FutureWarning: Default solver will be changed to 'lbfgs' in 0.22. Specify a solver to silence this warning.\n",
      "  FutureWarning)\n",
      "/Users/akanshakhare/anaconda3/lib/python3.7/site-packages/sklearn/linear_model/logistic.py:432: FutureWarning: Default solver will be changed to 'lbfgs' in 0.22. Specify a solver to silence this warning.\n",
      "  FutureWarning)\n",
      "/Users/akanshakhare/anaconda3/lib/python3.7/site-packages/sklearn/linear_model/logistic.py:432: FutureWarning: Default solver will be changed to 'lbfgs' in 0.22. Specify a solver to silence this warning.\n",
      "  FutureWarning)\n",
      "/Users/akanshakhare/anaconda3/lib/python3.7/site-packages/sklearn/linear_model/logistic.py:432: FutureWarning: Default solver will be changed to 'lbfgs' in 0.22. Specify a solver to silence this warning.\n",
      "  FutureWarning)\n",
      "/Users/akanshakhare/anaconda3/lib/python3.7/site-packages/sklearn/linear_model/logistic.py:432: FutureWarning: Default solver will be changed to 'lbfgs' in 0.22. Specify a solver to silence this warning.\n",
      "  FutureWarning)\n",
      "/Users/akanshakhare/anaconda3/lib/python3.7/site-packages/sklearn/linear_model/logistic.py:432: FutureWarning: Default solver will be changed to 'lbfgs' in 0.22. Specify a solver to silence this warning.\n",
      "  FutureWarning)\n",
      "/Users/akanshakhare/anaconda3/lib/python3.7/site-packages/sklearn/linear_model/logistic.py:432: FutureWarning: Default solver will be changed to 'lbfgs' in 0.22. Specify a solver to silence this warning.\n",
      "  FutureWarning)\n"
     ]
    }
   ],
   "source": [
    "# Split the data into a training set, a vaidation set, and a test set\n",
    "X_train_plus_valid, X_test, y_train_plus_valid, y_test \\\n",
    "    = train_test_split(X, Y, random_state=123,\\\n",
    "                                    train_size = 0.7)\n",
    "\n",
    "X_train, X_valid, y_train, y_valid \\\n",
    "    = train_test_split(X_train_plus_valid, \\\n",
    "                                        y_train_plus_valid, random_state=123, \\\n",
    "                                        train_size = 0.5/0.7)\n",
    "\n",
    "# Implementing model with Binary Relevance algorithm without undersampling\n",
    "my_model = BinaryRelevanceClassifier(LogisticRegression())\n",
    "my_model.fit(X_train,y_train)\n",
    "\n",
    "y_pred = my_model.predict(X_train)\n",
    "y_prob = my_model.predict_proba(X_train)\n"
   ]
  },
  {
   "cell_type": "markdown",
   "metadata": {},
   "source": [
    "## Task 3: Compare the Performance of Different Binary Relevance Approaches"
   ]
  },
  {
   "cell_type": "code",
   "execution_count": 6,
   "metadata": {},
   "outputs": [
    {
     "name": "stdout",
     "output_type": "stream",
     "text": [
      "Cross Validation Experiment scores With Our Model 0.34034076469798635\n",
      "Fitting 10 folds for each of 4 candidates, totalling 40 fits\n"
     ]
    },
    {
     "name": "stderr",
     "output_type": "stream",
     "text": [
      "[Parallel(n_jobs=-1)]: Using backend LokyBackend with 4 concurrent workers.\n",
      "[Parallel(n_jobs=-1)]: Done  33 tasks      | elapsed:   21.2s\n"
     ]
    },
    {
     "name": "stdout",
     "output_type": "stream",
     "text": [
      "Best parameters set found on development set:\n",
      "{'classifier': GaussianNB(priors=None, var_smoothing=1e-09)}\n",
      "0.44795464935745294\n",
      "f1 score: training data -> 0.6552410437859353\n",
      "f1 score: validation data -> 0.618556701030928\n",
      "f1 score: test data -> 0.6271649954421148\n"
     ]
    },
    {
     "name": "stderr",
     "output_type": "stream",
     "text": [
      "[Parallel(n_jobs=-1)]: Done  40 out of  40 | elapsed:   24.4s finished\n"
     ]
    },
    {
     "data": {
      "text/plain": [
       "<matplotlib.legend.Legend at 0x1482cdc50>"
      ]
     },
     "execution_count": 6,
     "metadata": {},
     "output_type": "execute_result"
    },
    {
     "data": {
      "image/png": "[encoded data removed]",
      "text/plain": [
       "<Figure size 432x288 with 1 Axes>"
      ]
     },
     "metadata": {
      "needs_background": "light"
     },
     "output_type": "display_data"
    }
   ],
   "source": [
    "\n",
    "## Do a Cross Validation Experiment With Our Model\n",
    "scores = cross_val_score(my_model, X_train, y_train, cv=10,n_jobs=-1,scoring='f1_macro')\n",
    "print('Cross Validation Experiment scores With Our Model', scores.mean())\n",
    "\n",
    "\n",
    "# Set up the parameter grid to seaerch\n",
    "param = {'classifier': [LogisticRegression(max_iter=100,penalty='l2',random_state=0),\n",
    "                        DecisionTreeClassifier(random_state=0),\n",
    "                        GaussianNB(),\n",
    "                        KNeighborsClassifier()\n",
    "                        ] }\n",
    "\n",
    "# Perform the search\n",
    "my_tuned_model = GridSearchCV(BinaryRelevanceClassifier(), param_grid = param, cv=10, verbose = 2, n_jobs=-1, scoring='f1_macro')\n",
    "my_tuned_model.fit(X_train_plus_valid, y_train_plus_valid)\n",
    "\n",
    "# Print details\n",
    "print(\"Best parameters set found on development set:\")\n",
    "print(my_tuned_model.best_params_)\n",
    "print(my_tuned_model.best_score_)\n",
    "\n",
    "\n",
    "#\"******** Training Data ********\")\n",
    "# Make a set of predictions for the training data\n",
    "y_pred = my_model.predict(X_train)\n",
    "#Performance testing\n",
    "accuracy = hamming_loss(y_train, y_pred) # , normalize=True, sample_weight=None\n",
    "HammingLoss1 = accuracy\n",
    "accuracy = f1_score(y_train, y_pred, average='micro')\n",
    "f11 = accuracy\n",
    "print('f1 score: training data ->',f11)\n",
    "#\"****** Validation Data ********\")\n",
    "\n",
    "# Make a set of predictions for the validation data\n",
    "y_pred = my_model.predict(X_valid)\n",
    "# Print performance details\n",
    "accuracy = hamming_loss(y_valid, y_pred) # , normalize=True, sample_weight=None\n",
    "HammingLoss2= accuracy\n",
    "accuracy = f1_score(y_valid, y_pred, average='micro')\n",
    "f12 = accuracy\n",
    "print('f1 score: validation data ->',f12)\n",
    "\n",
    "#\"****** Test Data ********\")\n",
    "\n",
    "# Make a set of predictions for the validation data\n",
    "y_pred = my_model.predict(X_test)\n",
    "# Print performance details\n",
    "accuracy = hamming_loss(y_test, y_pred) # , normalize=True, sample_weight=None\n",
    "HammingLoss3 = accuracy\n",
    "accuracy = f1_score(y_test, y_pred, average='micro')\n",
    "f13 = accuracy\n",
    "print('f1 score: test data ->',f13)\n",
    "\n",
    "#Plotting the graph for performance comparison\n",
    "labels = ['Hamming Loss','f1 score']\n",
    "Train_data =  [HammingLoss1,f11]          \n",
    "Valid_data = [HammingLoss2,f12]\n",
    "Test_data = [HammingLoss3,f13]\n",
    "\n",
    "x = np.arange(len(labels))  # the label locations\n",
    "\n",
    "fig, ax = plt.subplots()\n",
    "rects1 = ax.bar(x+0.25, Train_data, width=0.25, label='Train',align='center')\n",
    "rects2 = ax.bar(x+0.45, Valid_data, width=0.25, label='Validated',align='center')\n",
    "rects3 = ax.bar(x+0.65, Test_data, width=0.25, label='Test',align='center')\n",
    "\n",
    "\n",
    "# Add some text for labels, title and custom x-axis tick labels, etc.\n",
    "ax.set_ylabel('Scores')\n",
    "ax.set_title(\"Comparing the performance measures for multi-label classification\",color='r',fontsize=13)\n",
    "ax.set_xticks(x)\n",
    "ax.set_xticklabels(labels,ha='left', minor=False)\n",
    "ax.legend()\n"
   ]
  },
  {
   "cell_type": "code",
   "execution_count": 7,
   "metadata": {},
   "outputs": [
    {
     "data": {
      "image/png": "[encoded data removed]",
      "text/plain": [
       "<Figure size 720x720 with 16 Axes>"
      ]
     },
     "metadata": {
      "needs_background": "light"
     },
     "output_type": "display_data"
    }
   ],
   "source": [
    "# Make a set of predictions for the test data\n",
    "y_pred = my_model.predict_proba(X_test)\n",
    "_ = pd.DataFrame(y_pred).hist(figsize = (10,10))"
   ]
  },
  {
   "cell_type": "code",
   "execution_count": 8,
   "metadata": {},
   "outputs": [
    {
     "name": "stderr",
     "output_type": "stream",
     "text": [
      "/Users/akanshakhare/anaconda3/lib/python3.7/site-packages/sklearn/linear_model/logistic.py:432: FutureWarning: Default solver will be changed to 'lbfgs' in 0.22. Specify a solver to silence this warning.\n",
      "  FutureWarning)\n",
      "/Users/akanshakhare/anaconda3/lib/python3.7/site-packages/sklearn/linear_model/logistic.py:432: FutureWarning: Default solver will be changed to 'lbfgs' in 0.22. Specify a solver to silence this warning.\n",
      "  FutureWarning)\n",
      "/Users/akanshakhare/anaconda3/lib/python3.7/site-packages/sklearn/linear_model/logistic.py:432: FutureWarning: Default solver will be changed to 'lbfgs' in 0.22. Specify a solver to silence this warning.\n",
      "  FutureWarning)\n",
      "/Users/akanshakhare/anaconda3/lib/python3.7/site-packages/sklearn/linear_model/logistic.py:432: FutureWarning: Default solver will be changed to 'lbfgs' in 0.22. Specify a solver to silence this warning.\n",
      "  FutureWarning)\n",
      "/Users/akanshakhare/anaconda3/lib/python3.7/site-packages/sklearn/linear_model/logistic.py:432: FutureWarning: Default solver will be changed to 'lbfgs' in 0.22. Specify a solver to silence this warning.\n",
      "  FutureWarning)\n",
      "/Users/akanshakhare/anaconda3/lib/python3.7/site-packages/sklearn/linear_model/logistic.py:432: FutureWarning: Default solver will be changed to 'lbfgs' in 0.22. Specify a solver to silence this warning.\n",
      "  FutureWarning)\n",
      "/Users/akanshakhare/anaconda3/lib/python3.7/site-packages/sklearn/linear_model/logistic.py:432: FutureWarning: Default solver will be changed to 'lbfgs' in 0.22. Specify a solver to silence this warning.\n",
      "  FutureWarning)\n",
      "/Users/akanshakhare/anaconda3/lib/python3.7/site-packages/sklearn/linear_model/logistic.py:432: FutureWarning: Default solver will be changed to 'lbfgs' in 0.22. Specify a solver to silence this warning.\n",
      "  FutureWarning)\n",
      "/Users/akanshakhare/anaconda3/lib/python3.7/site-packages/sklearn/linear_model/logistic.py:432: FutureWarning: Default solver will be changed to 'lbfgs' in 0.22. Specify a solver to silence this warning.\n",
      "  FutureWarning)\n",
      "/Users/akanshakhare/anaconda3/lib/python3.7/site-packages/sklearn/linear_model/logistic.py:432: FutureWarning: Default solver will be changed to 'lbfgs' in 0.22. Specify a solver to silence this warning.\n",
      "  FutureWarning)\n",
      "/Users/akanshakhare/anaconda3/lib/python3.7/site-packages/sklearn/linear_model/logistic.py:432: FutureWarning: Default solver will be changed to 'lbfgs' in 0.22. Specify a solver to silence this warning.\n",
      "  FutureWarning)\n",
      "/Users/akanshakhare/anaconda3/lib/python3.7/site-packages/sklearn/linear_model/logistic.py:432: FutureWarning: Default solver will be changed to 'lbfgs' in 0.22. Specify a solver to silence this warning.\n",
      "  FutureWarning)\n",
      "/Users/akanshakhare/anaconda3/lib/python3.7/site-packages/sklearn/linear_model/logistic.py:432: FutureWarning: Default solver will be changed to 'lbfgs' in 0.22. Specify a solver to silence this warning.\n",
      "  FutureWarning)\n",
      "/Users/akanshakhare/anaconda3/lib/python3.7/site-packages/sklearn/linear_model/logistic.py:432: FutureWarning: Default solver will be changed to 'lbfgs' in 0.22. Specify a solver to silence this warning.\n",
      "  FutureWarning)\n"
     ]
    },
    {
     "name": "stdout",
     "output_type": "stream",
     "text": [
      "Cross Validation Experiment scores With Our Model 0.4166194193572427\n",
      "Fitting 10 folds for each of 4 candidates, totalling 40 fits\n"
     ]
    },
    {
     "name": "stderr",
     "output_type": "stream",
     "text": [
      "[Parallel(n_jobs=-1)]: Using backend LokyBackend with 4 concurrent workers.\n",
      "[Parallel(n_jobs=-1)]: Done  33 tasks      | elapsed:   23.8s\n"
     ]
    },
    {
     "name": "stdout",
     "output_type": "stream",
     "text": [
      "Best parameters set found on development set:\n",
      "{'classifier': GaussianNB(priors=None, var_smoothing=1e-09)}\n",
      "0.44795464935745294\n",
      "f1 score: training data -> 0.4571670309525488\n",
      "f1 score: validation data -> 0.436745406824147\n",
      "f1 score: test data -> 0.4327799859714754\n"
     ]
    },
    {
     "name": "stderr",
     "output_type": "stream",
     "text": [
      "[Parallel(n_jobs=-1)]: Done  40 out of  40 | elapsed:   26.4s finished\n"
     ]
    },
    {
     "data": {
      "text/plain": [
       "<matplotlib.legend.Legend at 0x147ecc4a8>"
      ]
     },
     "execution_count": 8,
     "metadata": {},
     "output_type": "execute_result"
    },
    {
     "data": {
      "image/png": "[encoded data removed]",
      "text/plain": [
       "<Figure size 432x288 with 1 Axes>"
      ]
     },
     "metadata": {
      "needs_background": "light"
     },
     "output_type": "display_data"
    },
    {
     "data": {
      "image/png": "[encoded data removed]",
      "text/plain": [
       "<Figure size 432x288 with 1 Axes>"
      ]
     },
     "metadata": {
      "needs_background": "light"
     },
     "output_type": "display_data"
    }
   ],
   "source": [
    "# Implementing model with Binary Relevance algorithm with undersampling\n",
    "my_model = BinaryRelevanceClassifier(LogisticRegression(),'undersampling')\n",
    "my_model.fit(X_train,y_train)\n",
    "\n",
    "y_pred = my_model.predict(X_train)\n",
    "y_prob = my_model.predict_proba(X_train)\n",
    "\n",
    "\n",
    "## Do a Cross Validation Experiment With Our Model\n",
    "scores = cross_val_score(my_model, X_train_plus_valid, y_train_plus_valid, cv=10,n_jobs=-1,scoring='f1_macro')\n",
    "print('Cross Validation Experiment scores With Our Model', scores.mean())\n",
    "\n",
    "\n",
    "# Set up the parameter grid to seaerch\n",
    "param = {'classifier': [LogisticRegression(max_iter=100,random_state=0),\n",
    "                        DecisionTreeClassifier(random_state=0),\n",
    "                        GaussianNB(),\n",
    "                        KNeighborsClassifier()\n",
    "                        ] }\n",
    "\n",
    "# Perform the search\n",
    "my_tuned_model = GridSearchCV(BinaryRelevanceClassifier('undersampling'), param_grid = param, cv=10, verbose = 2, n_jobs=-1, scoring='f1_macro')\n",
    "my_tuned_model.fit(X_train_plus_valid, y_train_plus_valid)\n",
    "\n",
    "# Print details\n",
    "print(\"Best parameters set found on development set:\")\n",
    "print(my_tuned_model.best_params_)\n",
    "print(my_tuned_model.best_score_)\n",
    "\n",
    "\n",
    "#\"******** Training Data ********\")\n",
    "# Make a set of predictions for the training data\n",
    "y_pred = my_model.predict(X_train)\n",
    "#Performance testing\n",
    "accuracy = hamming_loss(y_train, y_pred) # , normalize=True, sample_weight=None\n",
    "HammingLoss1 = accuracy\n",
    "accuracy = f1_score(y_train, y_pred, average='micro')\n",
    "f1score1 = accuracy\n",
    "print('f1 score: training data ->',f1score1)\n",
    "\n",
    "#\"****** Validation Data ********\")\n",
    "\n",
    "# Make a set of predictions for the validation data\n",
    "y_pred = my_model.predict(X_valid)\n",
    "# Print performance details\n",
    "accuracy = hamming_loss(y_valid, y_pred) # , normalize=True, sample_weight=None\n",
    "HammingLoss2= accuracy\n",
    "accuracy = f1_score(y_valid, y_pred, average='micro')\n",
    "f1score2 = accuracy\n",
    "print('f1 score: validation data ->',f1score2)\n",
    "\n",
    "#\"****** Test Data ********\")\n",
    "\n",
    "# Make a set of predictions for the validation data\n",
    "y_pred = my_model.predict(X_test)\n",
    "# Print performance details\n",
    "accuracy = hamming_loss(y_test, y_pred) # , normalize=True, sample_weight=None\n",
    "HammingLoss3 = accuracy\n",
    "accuracy = f1_score(y_test, y_pred, average='micro')\n",
    "f1score3 = accuracy\n",
    "print('f1 score: test data ->',f1score3)\n",
    "\n",
    "\n",
    "#Plotting the graph for performance comparison\n",
    "labels = ['Hamming Loss','f1 score']\n",
    "Train_data =  [HammingLoss1,f1score1]          \n",
    "Valid_data = [HammingLoss2,f1score2]\n",
    "Test_data = [HammingLoss3,f1score3]\n",
    "\n",
    "x = np.arange(len(labels))  # the label locations\n",
    "\n",
    "fig, ax = plt.subplots()\n",
    "rects1 = ax.bar(x+0.25, Train_data, width=0.25, label='Train',align='center')\n",
    "rects2 = ax.bar(x+0.45, Valid_data, width=0.25, label='Validated',align='center')\n",
    "rects3 = ax.bar(x+0.65, Test_data, width=0.25, label='Test',align='center')\n",
    "\n",
    "\n",
    "# Add some text for labels, title and custom x-axis tick labels, etc.\n",
    "ax.set_ylabel('Scores')\n",
    "ax.set_title(\"Comparing the performance measures for multi-label classification with undersampling\",color='r',fontsize=13)\n",
    "ax.set_xticks(x)\n",
    "ax.set_xticklabels(labels,ha='left', minor=False)\n",
    "ax.legend()\n",
    "\n",
    "# Comparing the performance of the binary relevance classifier (with or without under-sampling)\n",
    "#Plotting the graph \n",
    "labels = ['Training data','Validated data','Test data']\n",
    "undersample_data =  [f1score1,f1score2,f1score3]          \n",
    "sample_data = [f11,f12,f13]\n",
    "\n",
    "\n",
    "x = np.arange(len(labels))  # the label locations\n",
    "\n",
    "fig, ax = plt.subplots()\n",
    "rects1 = ax.bar(x+0.25, undersample_data, width=0.25, label='Binary Relevance with undersampling',align='center')\n",
    "rects2 = ax.bar(x+0.45, sample_data, width=0.25, label='Binary Relevance without undersampling',align='center')\n",
    "\n",
    "\n",
    "# Add some text for labels, title and custom x-axis tick labels, etc.\n",
    "ax.set_ylabel('f1 Scores')\n",
    "ax.set_title(\"Comparing the performance of the binary relevance classifier (with or without under-sampling)\",color='r',fontsize=13)\n",
    "ax.set_xticks(x)\n",
    "ax.set_xticklabels(labels,ha='left', minor=False)\n",
    "ax.legend()"
   ]
  },
  {
   "cell_type": "code",
   "execution_count": 9,
   "metadata": {},
   "outputs": [
    {
     "data": {
      "image/png": "[encoded data removed]",
      "text/plain": [
       "<Figure size 720x720 with 16 Axes>"
      ]
     },
     "metadata": {
      "needs_background": "light"
     },
     "output_type": "display_data"
    }
   ],
   "source": [
    "# Make a set of predictions for the test data\n",
    "y_pred = my_model.predict_proba(X_test)\n",
    "_ = pd.DataFrame(y_pred).hist(figsize = (10,10))"
   ]
  },
  {
   "cell_type": "markdown",
   "metadata": {},
   "source": [
    "## Task 4: Implement the Classifier Chains Algorithm"
   ]
  },
  {
   "cell_type": "code",
   "execution_count": 10,
   "metadata": {},
   "outputs": [],
   "source": [
    "# Write your code here\n",
    "# Create a new classifier which is based on the sckit-learn BaseEstimator and ClassifierMixin classes\n",
    "class ChainClassifier(BaseEstimator, ClassifierMixin):\n",
    "    \"\"\"A ChainClassifier- generates a chain of binary classifiers each of predicts the presence or absence of a specific label.\n",
    "    - Training: Implement a chain of binary classifier which includes the original descriptive features plus the outputs of the classifiers so far in the chain. \n",
    "                This allows label associations to be taken into account.\n",
    "    - Prediction: Each model makes a prediction in the order specified by the chain using\n",
    "                  all of the available features provided to the model plus the predictions\n",
    "                  of models that are earlier in the chain.\n",
    " \n",
    "\n",
    "    Attributes\n",
    "    ----------\n",
    "    classes_ : array of shape = [n_classes] \n",
    "        The classes labels (single output problem).\n",
    "     \n",
    "    Notes\n",
    "    -----\n",
    "    \n",
    "\n",
    "    See also\n",
    "    --------\n",
    "    \n",
    "    ----------\n",
    "    \n",
    "    Examples\n",
    "    --------\n",
    "    >>> from sklearn.datasets import load_iris\n",
    "    >>> from sklearn.model_selection import cross_val_score\n",
    "    >>> clf = ChainClassifier()\n",
    "    >>> iris = load_iris()\n",
    "    >>> cross_val_score(clf, iris.data, iris.target, cv=10)\n",
    "\n",
    "    \"\"\"\n",
    "    \n",
    "    \n",
    "    # Constructor for the classifier object\n",
    "    def __init__(self, classifier=None):\n",
    "        self.classifier=classifier\n",
    "        \n",
    "    \n",
    "    # The fit function to train a classifier\n",
    "    def fit(self, X, y):\n",
    "        \"\"\"Fits classifier to training data\n",
    " \n",
    "        Sets `self.partition_` (list of single item lists) and `self.model_count_` (equal to number of labels).\n",
    "\n",
    "\n",
    "        Parameters\n",
    "        ----------\n",
    "        X : `array_like`, :class:`numpy.matrix` or :mod:`scipy.sparse` matrix, shape=(n_samples, n_features)\n",
    "            input feature matrix\n",
    "        y : `array_like`, :class:`numpy.matrix` or :mod:`scipy.sparse` matrix of `{0, 1}`, shape=(n_samples, n_labels)\n",
    "            binary indicator matrix with label assignments\n",
    "\n",
    "        Returns\n",
    "        -------\n",
    "        self\n",
    "            fitted instance of self\n",
    "\n",
    "        Notes\n",
    "        -----\n",
    "        .. note :: Input matrices are converted to sparse format internally if a numpy representation is passed\n",
    "        \"\"\"\n",
    "    \n",
    "        self.model_count_ = y.shape[1]\n",
    "        self.label_count = y.shape[1]\n",
    "        self.clf = list()\n",
    "        self.cols = y.columns\n",
    "    \n",
    "        for i in range(self.model_count_):\n",
    "            model_ = clone(self.classifier)\n",
    "            my_model = model_.fit(X, y.iloc[:,i])\n",
    "            self.clf.append(my_model)\n",
    "            X = pd.concat([X,y.iloc[:,i]], axis=1)\n",
    "        \n",
    "        return self\n",
    "    \n",
    "    \n",
    "    # The predict function to make a set of predictions for a set of query instances\n",
    "    def predict(self, X):\n",
    "        \"\"\"Predict labels for X\n",
    "\n",
    "        Parameters\n",
    "        ----------\n",
    "        X : `array_like`, :class:`numpy.matrix` or :mod:`scipy.sparse` matrix, shape=(n_samples, n_features)\n",
    "            input feature matrix\n",
    "\n",
    "        Returns\n",
    "        -------\n",
    "        :mod:`scipy.sparse` matrix of `{0, 1}`, shape=(n_samples, n_labels)\n",
    "            binary indicator matrix with label assignments\n",
    "        \"\"\"\n",
    "        \n",
    "        # Check is fit had been called by confirming that the teamplates_ list has been set up\n",
    "        #check_is_fitted(self, ['clf'])\n",
    "\n",
    "        # Check that the input features match the type and shape of the training features\n",
    "       # X = check_array(X)\n",
    "        \n",
    "          # Initialise an empty list to store the predictions made\n",
    "        self.pred_multiclass = list()\n",
    "        \n",
    "         # Iterate through the query instances in the query dataset \n",
    "    \n",
    "        X_temp = pd.DataFrame.copy(X)\n",
    "        i = 0\n",
    "        self.pred = []\n",
    "        for model in self.clf:\n",
    "            y_temp = model.predict(X_temp)\n",
    "            X_temp[self.cols[i]] = y_temp\n",
    "            self.pred.append(y_temp)\n",
    "            i +=1\n",
    "\n",
    "        \n",
    "        return np.transpose(np.array(self.pred))\n",
    "\n",
    "    \n",
    "    # The predict function to make a set of predictions for a set of query instances\n",
    "    def predict_proba(self, X):\n",
    "        \"\"\"Predict probabilities of label assignments for X\n",
    "\n",
    "        Parameters\n",
    "        ----------\n",
    "        X : `array_like`, :class:`numpy.matrix` or :mod:`scipy.sparse` matrix, shape=(n_samples, n_features)\n",
    "            input feature matrix\n",
    "\n",
    "        Returns\n",
    "        -------\n",
    "        :mod:`scipy.sparse` matrix of `float in [0.0, 1.0]`, shape=(n_samples, n_labels)\n",
    "            matrix with label assignment probabilities\n",
    "        \"\"\"\n",
    "\n",
    "        self.result = []\n",
    "        X_label = pd.DataFrame.copy(X)\n",
    "        i= 0\n",
    "        for classifier in self.clf:\n",
    "            # the multilabel classifier should provide a (n_samples, n_labels) matrix\n",
    "            label = classifier.predict_proba(X_label)[:,0]\n",
    "            X_label[self.cols[i]] = label\n",
    "            X_label[self.cols[i]].apply(lambda x : 1 if (x < 0.5) else 0)\n",
    "            self.result.append(label)   \n",
    "            i +=1\n",
    "        return np.transpose(np.array(self.result))\n",
    "\n"
   ]
  },
  {
   "cell_type": "markdown",
   "metadata": {},
   "source": [
    "## Task 5: Evaluate the Performance of the Classifier Chains Algorithm"
   ]
  },
  {
   "cell_type": "code",
   "execution_count": 11,
   "metadata": {},
   "outputs": [
    {
     "name": "stderr",
     "output_type": "stream",
     "text": [
      "/Users/akanshakhare/anaconda3/lib/python3.7/site-packages/sklearn/linear_model/logistic.py:432: FutureWarning: Default solver will be changed to 'lbfgs' in 0.22. Specify a solver to silence this warning.\n",
      "  FutureWarning)\n",
      "/Users/akanshakhare/anaconda3/lib/python3.7/site-packages/sklearn/linear_model/logistic.py:432: FutureWarning: Default solver will be changed to 'lbfgs' in 0.22. Specify a solver to silence this warning.\n",
      "  FutureWarning)\n",
      "/Users/akanshakhare/anaconda3/lib/python3.7/site-packages/sklearn/linear_model/logistic.py:432: FutureWarning: Default solver will be changed to 'lbfgs' in 0.22. Specify a solver to silence this warning.\n",
      "  FutureWarning)\n",
      "/Users/akanshakhare/anaconda3/lib/python3.7/site-packages/sklearn/linear_model/logistic.py:432: FutureWarning: Default solver will be changed to 'lbfgs' in 0.22. Specify a solver to silence this warning.\n",
      "  FutureWarning)\n",
      "/Users/akanshakhare/anaconda3/lib/python3.7/site-packages/sklearn/linear_model/logistic.py:432: FutureWarning: Default solver will be changed to 'lbfgs' in 0.22. Specify a solver to silence this warning.\n",
      "  FutureWarning)\n",
      "/Users/akanshakhare/anaconda3/lib/python3.7/site-packages/sklearn/linear_model/logistic.py:432: FutureWarning: Default solver will be changed to 'lbfgs' in 0.22. Specify a solver to silence this warning.\n",
      "  FutureWarning)\n",
      "/Users/akanshakhare/anaconda3/lib/python3.7/site-packages/sklearn/linear_model/logistic.py:432: FutureWarning: Default solver will be changed to 'lbfgs' in 0.22. Specify a solver to silence this warning.\n",
      "  FutureWarning)\n",
      "/Users/akanshakhare/anaconda3/lib/python3.7/site-packages/sklearn/linear_model/logistic.py:432: FutureWarning: Default solver will be changed to 'lbfgs' in 0.22. Specify a solver to silence this warning.\n",
      "  FutureWarning)\n",
      "/Users/akanshakhare/anaconda3/lib/python3.7/site-packages/sklearn/linear_model/logistic.py:432: FutureWarning: Default solver will be changed to 'lbfgs' in 0.22. Specify a solver to silence this warning.\n",
      "  FutureWarning)\n",
      "/Users/akanshakhare/anaconda3/lib/python3.7/site-packages/sklearn/linear_model/logistic.py:432: FutureWarning: Default solver will be changed to 'lbfgs' in 0.22. Specify a solver to silence this warning.\n",
      "  FutureWarning)\n",
      "/Users/akanshakhare/anaconda3/lib/python3.7/site-packages/sklearn/linear_model/logistic.py:432: FutureWarning: Default solver will be changed to 'lbfgs' in 0.22. Specify a solver to silence this warning.\n",
      "  FutureWarning)\n",
      "/Users/akanshakhare/anaconda3/lib/python3.7/site-packages/sklearn/linear_model/logistic.py:432: FutureWarning: Default solver will be changed to 'lbfgs' in 0.22. Specify a solver to silence this warning.\n",
      "  FutureWarning)\n",
      "/Users/akanshakhare/anaconda3/lib/python3.7/site-packages/sklearn/linear_model/logistic.py:432: FutureWarning: Default solver will be changed to 'lbfgs' in 0.22. Specify a solver to silence this warning.\n",
      "  FutureWarning)\n",
      "/Users/akanshakhare/anaconda3/lib/python3.7/site-packages/sklearn/linear_model/logistic.py:432: FutureWarning: Default solver will be changed to 'lbfgs' in 0.22. Specify a solver to silence this warning.\n",
      "  FutureWarning)\n"
     ]
    },
    {
     "name": "stdout",
     "output_type": "stream",
     "text": [
      "Cross Validation Experiment scores With Our Model 0.3858752973081318\n",
      "Fitting 10 folds for each of 4 candidates, totalling 40 fits\n"
     ]
    },
    {
     "name": "stderr",
     "output_type": "stream",
     "text": [
      "[Parallel(n_jobs=-1)]: Using backend LokyBackend with 4 concurrent workers.\n",
      "[Parallel(n_jobs=-1)]: Done  33 tasks      | elapsed:   19.0s\n",
      "[Parallel(n_jobs=-1)]: Done  40 out of  40 | elapsed:   21.8s finished\n"
     ]
    },
    {
     "name": "stdout",
     "output_type": "stream",
     "text": [
      "Best parameters set found on development set:\n",
      "{'classifier': GaussianNB(priors=None, var_smoothing=1e-09)}\n",
      "0.4470132292190869\n",
      "f1 score: validation data -> 0.6508712282192946\n",
      "f1 score: validation data -> 0.6321930522407848\n",
      "f1 score: validation data -> 0.6101634045609626\n"
     ]
    },
    {
     "data": {
      "text/plain": [
       "<matplotlib.legend.Legend at 0x146eeeb70>"
      ]
     },
     "execution_count": 11,
     "metadata": {},
     "output_type": "execute_result"
    },
    {
     "data": {
      "image/png": "[encoded data removed]",
      "text/plain": [
       "<Figure size 432x288 with 1 Axes>"
      ]
     },
     "metadata": {
      "needs_background": "light"
     },
     "output_type": "display_data"
    },
    {
     "data": {
      "image/png": "[encoded data removed]",
      "text/plain": [
       "<Figure size 432x288 with 1 Axes>"
      ]
     },
     "metadata": {
      "needs_background": "light"
     },
     "output_type": "display_data"
    }
   ],
   "source": [
    "# Write your code here\n",
    "\n",
    "# Split the data into a training set, a vaidation set, and a test set\n",
    "X_train_plus_valid, X_test, y_train_plus_valid, y_test \\\n",
    "    = train_test_split(X, Y, random_state=0, \\\n",
    "                                    train_size = 0.7)\n",
    "\n",
    "X_train, X_valid, y_train, y_valid \\\n",
    "    = train_test_split(X_train_plus_valid, \\\n",
    "                                        y_train_plus_valid, random_state=0, \\\n",
    "                                        train_size = 0.5/0.7)\n",
    "\n",
    "my_model = ChainClassifier(LogisticRegression(random_state=0))\n",
    "my_model.fit(X_train,y_train)\n",
    "y_pred = my_model.predict(X_train)\n",
    "y_prob = my_model.predict_proba(X_train)\n",
    "\n",
    "## Do a Cross Validation Experiment With Our Model\n",
    "scores = cross_val_score(my_model, X_train_plus_valid, y_train_plus_valid, cv=10,n_jobs=-1,scoring='f1_macro')\n",
    "print('Cross Validation Experiment scores With Our Model', scores.mean())\n",
    "\n",
    "\n",
    "# Set up the parameter grid to seaerch\n",
    "param = {'classifier': [LogisticRegression(max_iter=100,penalty='l2',random_state=0),\n",
    "                        DecisionTreeClassifier(random_state=0),\n",
    "                        GaussianNB(),\n",
    "                        KNeighborsClassifier()\n",
    "                        ]}\n",
    "\n",
    "# Perform the search\n",
    "my_tuned_model = GridSearchCV(ChainClassifier(), param_grid = param, cv=10, verbose = 2, n_jobs=-1, scoring='f1_macro')\n",
    "my_tuned_model.fit(X_train_plus_valid, y_train_plus_valid)\n",
    "\n",
    "# Print details\n",
    "print(\"Best parameters set found on development set:\")\n",
    "print(my_tuned_model.best_params_)\n",
    "print(my_tuned_model.best_score_)\n",
    "\n",
    "\n",
    "#\"******** Training Data ********\")\n",
    "# Make a set of predictions for the training data\n",
    "y_pred = my_model.predict(X_train)\n",
    "#Performance testing\n",
    "accuracy = hamming_loss(y_train, y_pred) # , normalize=True, sample_weight=None\n",
    "HammingLoss1 = accuracy\n",
    "accuracy = f1_score(y_train, y_pred, average='micro')\n",
    "f1score1 = accuracy\n",
    "print('f1 score: validation data ->',f1score1)\n",
    "#\"****** Validation Data ********\")\n",
    "\n",
    "# Make a set of predictions for the validation data\n",
    "y_pred = my_model.predict(X_valid)\n",
    "# Print performance details\n",
    "accuracy = hamming_loss(y_valid, y_pred) # , normalize=True, sample_weight=None\n",
    "HammingLoss2= accuracy\n",
    "accuracy = f1_score(y_valid, y_pred, average='micro')\n",
    "f1score2 = accuracy\n",
    "print('f1 score: validation data ->',f1score2)\n",
    "\n",
    "#\"****** Test Data ********\")\n",
    "\n",
    "# Make a set of predictions for the validation data\n",
    "y_pred = my_model.predict(X_test)\n",
    "# Print performance details\n",
    "accuracy = hamming_loss(y_test, y_pred) # , normalize=True, sample_weight=None\n",
    "HammingLoss3 = accuracy\n",
    "accuracy = f1_score(y_test, y_pred, average='micro')\n",
    "f1score3 = accuracy\n",
    "print('f1 score: validation data ->',f1score3)\n",
    "\n",
    "#Plotting the graph for performance comparison\n",
    "labels = ['Hamming Loss','f1 score']\n",
    "Train_data =  [HammingLoss1,f1score1]          \n",
    "Valid_data = [HammingLoss2,f1score2]\n",
    "Test_data = [HammingLoss3,f1score3]\n",
    "\n",
    "x = np.arange(len(labels))  # the label locations\n",
    "\n",
    "fig, ax = plt.subplots()\n",
    "rects1 = ax.bar(x+0.25, Train_data, width=0.25, label='Train',align='center')\n",
    "rects2 = ax.bar(x+0.45, Valid_data, width=0.25, label='Validated',align='center')\n",
    "rects3 = ax.bar(x+0.65, Test_data, width=0.25, label='Test',align='center')\n",
    "\n",
    "\n",
    "# Add some text for labels, title and custom x-axis tick labels, etc.\n",
    "ax.set_ylabel('Scores')\n",
    "ax.set_title(\"Comparing the performance measures for Chain Classifier\",color='r',fontsize=13)\n",
    "ax.set_xticks(x)\n",
    "ax.set_xticklabels(labels,ha='left', minor=False)\n",
    "ax.legend()\n",
    "\n",
    "# Comparing the performance of the binary relevance classifier and Chain Classififer\n",
    "\n",
    "#Plotting the graph \n",
    "labels = ['Training data','Validated data','Test data']\n",
    "data1 =  [f1score1,f1score2,f1score3]          \n",
    "data2 = [f11,f12,f13]\n",
    "\n",
    "\n",
    "x = np.arange(len(labels))  # the label locations\n",
    "\n",
    "fig, ax = plt.subplots()\n",
    "rects1 = ax.bar(x+0.25, data1, width=0.20, label='Chain classifier')\n",
    "rects2 = ax.bar(x+0.45, data2, width=0.20, label='Binary Relevance')\n",
    "\n",
    "\n",
    "# Add some text for labels, title and custom x-axis tick labels, etc.\n",
    "ax.set_ylabel('f1 Scores')\n",
    "ax.set_title(\"Comparing the performance of the binary relevance classifier and Chain Classififer\",color='r',fontsize=13)\n",
    "ax.set_xticks(x)\n",
    "ax.set_xticklabels(labels,ha='left', minor=False)\n",
    "ax.legend()"
   ]
  },
  {
   "cell_type": "code",
   "execution_count": 12,
   "metadata": {},
   "outputs": [
    {
     "data": {
      "image/png": "[encoded data removed]",
      "text/plain": [
       "<Figure size 720x720 with 16 Axes>"
      ]
     },
     "metadata": {
      "needs_background": "light"
     },
     "output_type": "display_data"
    }
   ],
   "source": [
    "# Make a set of predictions for the test data\n",
    "y_pred = my_model.predict_proba(X_test)\n",
    "_ = pd.DataFrame(y_pred).hist(figsize = (10,10))"
   ]
  },
  {
   "cell_type": "markdown",
   "metadata": {},
   "source": [
    "## Task 6: Reflect on the Performance of the Different Models Evaluated"
   ]
  },
  {
   "cell_type": "markdown",
   "metadata": {},
   "source": [
    "*Write your reflection here (max 300 words)*"
   ]
  },
  {
   "cell_type": "markdown",
   "metadata": {},
   "source": [
    "\n"
   ]
  },
  {
   "cell_type": "markdown",
   "metadata": {},
   "source": [
    "- Ensemble learning helps to improve machine learning results by combining several models like decision trees, logistic regression, KNN, Naive bayes or support vector machine.\n",
    "\n",
    "In binary relevance classifier, binary relevance algorithm is used to implement ensemble method. It train the model on each label of the target dataset. \n",
    "- When we calculate f1 score of the trained model without undersampling on training data, it is not giving more than 70% accuracy which means Yeast dataset is not having imbalanced class distribution.\n",
    "- When we compare the performance of binary relevance classifier on train data, validated data and test data with the another binary relevance classifier using undersampling, we found that the performance(f1 score) is decreasing. This is because model with undersampling is using NearMiss-1 undersampling technique which means it select the majority class samples whose average distances to three closest minority class samples are the smallest. This approach decrease the number of samples because it will use suitable data to train the model. \n",
    "- Predict_proba function represent the probability of the class labels which has '0' target value. \n",
    "- Used GridSearch with 10Fold Cross validation to train and test the estimators(LogisticRegression, DecisionTreeClassifier, GaussianNB, KNeighborsClassifier) and We have got GaussianNB as the best estimator.\n",
    "\n",
    "In chain classifier, classifier chains algorithm is used to implement ensemble method by taking advantage of label association. \n",
    "- When we compare the performance of binary relevance classifier on train data, validated data and test data with the chain classifier, we found that the performance(f1 score) is almost similar.\n",
    "- Predict_proba function represent the probability of the class labels which has '0' target value. \n",
    "- Used GridSearch with 10Fold Cross validation to train and test the estimators(LogisticRegression, DecisionTreeClassifier, GaussianNB, KNeighborsClassifier) and We have got GaussianNB as the best estimator.\n",
    "\n",
    "### Conclusion\n",
    "\n",
    "Binary relevance classifier is simple, efficient and does not have label correlation. Whereas, Chain classifier is flexible, efficient and have label correlation. Chain classifier solve the label independence problem of Binary relevance classifier. Yeast dataset is not imbalanced class dataset thats why binary relevance classifier and chain classifier both are giving the similar accuracy(f1 score). And binary relevance classifier with undersampling is giving low f1 score compare to chain classifier and binary relevance classifier. Cross validation score of chain classifier is higher than binary relevance classifier score so we can say that predictive performance of the chain classifier is better than the predictive performance of binary relevance classifier."
   ]
  },
  {
   "cell_type": "code",
   "execution_count": null,
   "metadata": {},
   "outputs": [],
   "source": []
  }
 ],
 "metadata": {
  "kernelspec": {
   "display_name": "Python 3",
   "language": "python",
   "name": "python3"
  },
  "language_info": {
   "codemirror_mode": {
    "name": "ipython",
    "version": 3
   },
   "file_extension": ".py",
   "mimetype": "text/x-python",
   "name": "python",
   "nbconvert_exporter": "python",
   "pygments_lexer": "ipython3",
   "version": "3.7.3"
  }
 },
 "nbformat": 4,
 "nbformat_minor": 2
}
